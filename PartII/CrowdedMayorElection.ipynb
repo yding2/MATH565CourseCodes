{
 "cells": [
  {
   "cell_type": "markdown",
   "metadata": {},
   "source": [
    "# Crowded Mayor Election\n",
    "Some elections, such as the Chicago mayoral election, attract a large number of candidates.  If no candidate receives a majority of votes in the first election, then there is a run-off of the top two candidates.\n",
    "\n",
    "Since not all voters vote, one may wonder if the two top preferred candidates will actually be chosen in the initial election.  We will explore the probability of that happening."
   ]
  },
  {
   "cell_type": "markdown",
   "metadata": {},
   "source": [
    "### Set Up Candidates\n",
    "First we set the probabilities of a voter choosing each of many candidates.  Note that the top three candidates have similar probabilities."
   ]
  },
  {
   "cell_type": "code",
   "execution_count": 3,
   "metadata": {},
   "outputs": [],
   "source": [
    "# Import necessary packages\n",
    "import numpy as np\n",
    "from scipy import stats\n",
    "from scipy.optimize import fsolve"
   ]
  },
  {
   "cell_type": "code",
   "execution_count": 4,
   "metadata": {},
   "outputs": [],
   "source": [
    "PMF = np.arange(0.125,0.05,-0.01)\n",
    "PMF = np.insert(PMF,[0]*2,0.13)\n",
    "PMF = np.append(PMF,1-np.sum(PMF)) # probability mass function for candidates\n",
    "CDF = np.cumsum(PMF) # cumulative distribution function\n",
    "nTrials = int(1e4) # number of trials "
   ]
  },
  {
   "cell_type": "markdown",
   "metadata": {},
   "source": [
    "### Chicago Election\n",
    "Next we set the number of votes to be like a Chicago election.  The function *TwoBestWin* generates random election results."
   ]
  },
  {
   "cell_type": "code",
   "execution_count": 12,
   "metadata": {},
   "outputs": [
    {
     "name": "stdout",
     "output_type": "stream",
     "text": [
      "Chance that top two will win = [ 99.68% , 99.91% ].\n"
     ]
    }
   ],
   "source": [
    "nVotes = int(1e5) # number of votes in election\n",
    "Yes = TwoBestWin(nTrials,nVotes,CDF) # when do top two candidates win the initial election\n",
    "alpha = 0.01\n",
    "CI = binomialCI(nTrials,np.sum(Yes),alpha)\n",
    "print(\"Chance that top two will win = [\",f\"{CI[0][0]:.2%}\",\",\",f\"{CI[0][1]:.2%}\",\"].\")"
   ]
  },
  {
   "cell_type": "markdown",
   "metadata": {},
   "source": [
    "### Suburb Election\n",
    "Next we set the number of votes to be similar to that in a suburb. The function *TwoBestWin* generates random election results."
   ]
  },
  {
   "cell_type": "code",
   "execution_count": 11,
   "metadata": {},
   "outputs": [
    {
     "name": "stdout",
     "output_type": "stream",
     "text": [
      "Chance that top two will win = [ 60.27% , 62.78% ].\n"
     ]
    }
   ],
   "source": [
    "nVotes = int(5e3) # number of votes in election\n",
    "Yes = TwoBestWin(nTrials,nVotes,CDF) # when do top two candidates win the initial election\n",
    "alpha = 0.01\n",
    "CI = binomialCI(nTrials,np.sum(Yes),alpha)\n",
    "print(\"Chance that top two will win = [\",f\"{CI[0][0]:.2%}\",\",\",f\"{CI[0][1]:.2%}\",\"].\")"
   ]
  },
  {
   "cell_type": "markdown",
   "metadata": {},
   "source": [
    "#### TwoBestWin function"
   ]
  },
  {
   "cell_type": "code",
   "execution_count": 10,
   "metadata": {},
   "outputs": [],
   "source": [
    "def TwoBestWin(nTrials,nVotes,CDF):\n",
    "    Yes = np.zeros(nTrials) #initialize Yes\n",
    "    nCandidate = len(CDF) #number of candidates\n",
    "    vote = np.zeros(nCandidate) #initialize votes\n",
    "    for ii in range(nTrials):\n",
    "      votes = np.sum(np.random.rand(nVotes,1) > CDF,axis = 1)\n",
    "      for i in range(nCandidate):\n",
    "         vote[i] = np.sum(votes == i)\n",
    "      Yes[ii] = np.all(vote[0] > vote[2:nCandidate]) and np.all(vote[1] > vote[2:nCandidate])\n",
    "    return Yes"
   ]
  },
  {
   "cell_type": "markdown",
   "metadata": {},
   "source": [
    "#### binomialCI function"
   ]
  },
  {
   "cell_type": "code",
   "execution_count": 5,
   "metadata": {},
   "outputs": [],
   "source": [
    "def binomialCI(ntot,nsuc,alpha):\n",
    "   obsprob=nsuc/ntot # observed probability of success\n",
    "\n",
    "   al2=alpha/2 # half of uncertainty\n",
    "   if nsuc==0: # no successes observed\n",
    "      plo=0  # the lower bound must be zero\n",
    "   else: # use a nonlinear equation solver\n",
    "      plo=fsolve(lambda x: stats.binom.cdf(nsuc-1,ntot,x)-1+al2, obsprob)[0]\n",
    "\n",
    "   if nsuc==ntot: #no failures observed \n",
    "      pup=1 # the upper bound must be one\n",
    "   else: # use a nonlinear equation solver\n",
    "      pup=fsolve(lambda x: stats.binom.cdf(nsuc,ntot,x)-al2,obsprob)[0] # nonlinear equation\n",
    "   \n",
    "   exactci=np.array([plo,pup]) #confidence interval based on exact probabilities\n",
    "   cltci= obsprob+ np.array([-1,1])*(-stats.norm.ppf(al2)*np.sqrt(obsprob*(1-obsprob))/np.sqrt(ntot))\n",
    "   return exactci,cltci"
   ]
  }
 ],
 "metadata": {
  "kernelspec": {
   "display_name": "qmcpy",
   "language": "python",
   "name": "python3"
  },
  "language_info": {
   "codemirror_mode": {
    "name": "ipython",
    "version": 3
   },
   "file_extension": ".py",
   "mimetype": "text/x-python",
   "name": "python",
   "nbconvert_exporter": "python",
   "pygments_lexer": "ipython3",
   "version": "3.9.13"
  }
 },
 "nbformat": 4,
 "nbformat_minor": 2
}
