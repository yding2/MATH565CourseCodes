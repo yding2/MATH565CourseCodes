{
 "cells": [
  {
   "cell_type": "markdown",
   "metadata": {},
   "source": [
    "## Monte Carlo Option Pricing Example Using CLT Confidence Intervals\n",
    "\n",
    "This script shows how to use approximate Central Limit Theorem (CLT) confidence intervals with Monte Carlo to price a financial derivative or option. An option gives the right, but not the obligation, to conduct some transaction at a future date.\n",
    "\n",
    "## Late for a Date\n",
    "\n",
    "This example demonstrates the confidence intervals for probabilities and quantiles assuming that you must take different modes of transportation to get to your date.\n",
    "\n",
    "You leave your office and walk to the parking lot.  You then drive to Chinatown, park your car, and walk to MingHin restaurant to meet your friends.  \n",
    "\n",
    "For illustration purposes, we assume that the times of each segment are distributed uniformly:\n",
    "\n",
    "\\begin{align*}\n",
    " T_1  &= \\text{ time to walk to your car } \\sim \\mathcal{U}[4,7], \\\\\n",
    " T_2  &= \\text{ time to drive to Chinatown } \\sim \\mathcal{U}[10,15], \\\\\n",
    " T_3  &= \\text{ time to park your car } \\sim \\mathcal{U}[0,12], \\\\\n",
    " T_4  &= \\text{ time to walk to Ming Hin } \\sim \\mathcal{U}[2,8], \\\\\n",
    " T_{\\text{total}}  &= \\text{ total travel time } = T_1 + T_2 + T_3 + T_4.\n",
    "\\end{align*}\n",
    "\n",
    "All times are given in minutes.  We want to know \n",
    "\n",
    " * what is the average time required to get to your date, \n",
    " * what is the probability of needing more than \\(35\\) minutes to get to your date, and\n",
    " * what is the time you need to leave by to guarantee with \\(98\\%\\) confidence that you will be on time.\n",
    "\n",
    "\n"
   ]
  },
  {
   "cell_type": "code",
   "execution_count": 38,
   "metadata": {},
   "outputs": [],
   "source": [
    "# Import necessary packages\n",
    "import numpy as np\n",
    "from scipy.optimize import fsolve\n",
    "from scipy import stats\n"
   ]
  },
  {
   "cell_type": "markdown",
   "metadata": {},
   "source": [
    "### Simulating travel times\n",
    "First we construct a function that generates IID travel times.  If $U_1,\\ldots, U_4$ are IID $\\mathcal{U}[0,1]$ random variables, then \n",
    "\n",
    " \\begin{align*}\n",
    " T_1  &= 4 + 3 U_1, \\\\\n",
    " T_2  &= 10 + 5 U_2, \\\\\n",
    " T_3  &= 12 U_3, \\\\\n",
    " T_4  &= 2 + 6 U_4, \\\\\n",
    " T_{\\text{total}}  & = T_1 + T_2 + T_3 + T_4 = 16 + 3U_1 + 5U_2 + 12U_3 + 6 U_4.\n",
    " \\end{align*}\n"
   ]
  },
  {
   "cell_type": "code",
   "execution_count": 41,
   "metadata": {},
   "outputs": [],
   "source": [
    "Ttot = lambda n: 16+ np.sum(np.random.rand(n,4)* np.array([3,5,12,6]),axis = 1)"
   ]
  },
  {
   "cell_type": "code",
   "execution_count": 42,
   "metadata": {},
   "outputs": [
    {
     "data": {
      "text/plain": [
       "array([31.95914464, 23.13306622])"
      ]
     },
     "execution_count": 42,
     "metadata": {},
     "output_type": "execute_result"
    }
   ],
   "source": [
    "Ttot(2)"
   ]
  },
  {
   "cell_type": "markdown",
   "metadata": {},
   "source": [
    "### The average travel time\n",
    " The average travel time can be easily calculated analytically: \n",
    "\n",
    "$$\n",
    " \\mu  = \\mathbb{E}(T_{\\text{total}}) = 16 + (3 + 5 + 12 + 6) \\mathbb{E}(U)\n",
    " = 16 + 26 \\times 1/2 = 29.\n",
    "$$\n",
    "\n",
    "Monte Carlo methods can be used to approximate this as well:\n"
   ]
  },
  {
   "cell_type": "code",
   "execution_count": 31,
   "metadata": {},
   "outputs": [],
   "source": [
    "absTol = 0.01\n",
    "relTol = 0\n",
    "alpha = 0.01\n",
    "muhat,nSamples = meanMC_CLT(Ttot,absTol,relTol,alpha) #IID Monte Carlo with absolute error of 0.01\n"
   ]
  },
  {
   "cell_type": "code",
   "execution_count": 34,
   "metadata": {},
   "outputs": [
    {
     "name": "stdout",
     "output_type": "stream",
     "text": [
      "The average travel time is about   29.00 minutes.\n"
     ]
    }
   ],
   "source": [
    "print(\"The average travel time is about \",f\"{muhat:6.2f}\", \"minutes.\")"
   ]
  },
  {
   "cell_type": "markdown",
   "metadata": {},
   "source": [
    "### The probability of being late\n",
    "If we only leave our office $29$ minutes before our date, we will sometimes be early and sometimes be late. "
   ]
  },
  {
   "cell_type": "code",
   "execution_count": 112,
   "metadata": {},
   "outputs": [],
   "source": [
    "n = 10000 # number of samples\n",
    "lateTime = 29 # what time is considered late\n",
    "Ttotval = Ttot(n)  # sample of n total times\n",
    "exactCI,CLTCI = binomialCI(n,sum(Ttotval > lateTime),alpha) # confidence interval for being too late"
   ]
  },
  {
   "cell_type": "code",
   "execution_count": 113,
   "metadata": {},
   "outputs": [
    {
     "name": "stdout",
     "output_type": "stream",
     "text": [
      "If we leave our office 29 minutes before our date, the probability of being late is between [0.49337135 0.51922263]\n"
     ]
    }
   ],
   "source": [
    "print(\"If we leave our office\", lateTime, \"minutes before our date, the probability of being late is between\", exactCI)"
   ]
  },
  {
   "cell_type": "markdown",
   "metadata": {},
   "source": [
    "Since this is an important date we plan to leave $35$ minutes beforehand and hope to be early or on time. What is the chance that we will be late?\n",
    " \n",
    "We now perform $n$ trials, and count the number of late dates.  Then we use *binomialCI* to compute a confidence interval on the probability of\n",
    "being late for the date given that you leave $35$ minutes beforehand."
   ]
  },
  {
   "cell_type": "code",
   "execution_count": 126,
   "metadata": {},
   "outputs": [],
   "source": [
    "lateTime = 35 # what time is considered late\n",
    "Ttotval = Ttot(n)  # sample of n total times\n",
    "exactCI,CLTCI = binomialCI(n,sum(Ttotval > lateTime),alpha) # confidence interval for being too late"
   ]
  },
  {
   "cell_type": "code",
   "execution_count": 127,
   "metadata": {},
   "outputs": [
    {
     "name": "stdout",
     "output_type": "stream",
     "text": [
      "If we leave our office 38 minutes before our date, the probability of being late is between [0.00718527 0.01229382]\n"
     ]
    }
   ],
   "source": [
    "print(\"If we leave our office\", lateTime, \"minutes before our date, the probability of being late is between\", exactCI)"
   ]
  },
  {
   "cell_type": "markdown",
   "metadata": {},
   "source": [
    "The chance is of being late is around $8\\%$.\n",
    "\n",
    "### The cut-off time for being on time with a high probability\n",
    "A related problem is determining how late we can leave our office and still get to the restaurant on time with a high probability, say, $98\\%$.  Now we use *quantileCI* as follows:"
   ]
  },
  {
   "cell_type": "code",
   "execution_count": 133,
   "metadata": {},
   "outputs": [],
   "source": [
    "p = 0.02 # the probability of lateness that can be tolerated\n",
    "extremeVal = np.array([16,42])  #the extreme values of the distribution\n",
    "lateDateQuantCI = quantileCI(1-p,Ttotval,extremeVal,alpha) # 1-p quantile for total travel times"
   ]
  },
  {
   "cell_type": "code",
   "execution_count": 134,
   "metadata": {},
   "outputs": [
    {
     "name": "stdout",
     "output_type": "stream",
     "text": [
      "If we leave our office around  36.95  to  37.39 minutes before our date, the probability of being late is about 2.0 %\n"
     ]
    }
   ],
   "source": [
    "print(\"If we leave our office around \", f\"{lateDateQuantCI[0]:5.2f}\", \" to \", f\"{lateDateQuantCI[1]:5.2f}\", \"minutes before our date, the probability of being late is about\", p*100, \"%\")"
   ]
  },
  {
   "cell_type": "markdown",
   "metadata": {},
   "source": [
    "You need to allow $38$ minutes to make sure that you will be on time with at least a $98\\%$ probability."
   ]
  },
  {
   "cell_type": "markdown",
   "metadata": {},
   "source": [
    "#### meanMC_CLT function"
   ]
  },
  {
   "cell_type": "code",
   "execution_count": 9,
   "metadata": {},
   "outputs": [],
   "source": [
    "def meanMC_CLT(inputRandomFuc,absTol,relTol,alpha): #Simple version of meanMC_CLT\n",
    "    nsig = 1000 # initial size of the sample\n",
    "    inflate = 1.2 # inflation rate\n",
    "    YY = inputRandomFuc(nsig)\n",
    "    sigma  = np.std(YY,ddof = 1)\n",
    "    hum = np.mean(YY)\n",
    "    sigmaUpBound = sigma * inflate #upper ound on the standard deviation\n",
    "    nmu = max(1, np.power(np.ceil(stats.norm.ppf(1-alpha/2)*sigmaUpBound/max(absTol,relTol)),2).astype(int) )  # number of samples needed for the error tolerance\n",
    "    mu = np.mean(inputRandomFuc(nmu))\n",
    "    nSample = nsig + nmu\n",
    "    return mu, nSample"
   ]
  },
  {
   "cell_type": "markdown",
   "metadata": {},
   "source": [
    "#### binomialCI function"
   ]
  },
  {
   "cell_type": "code",
   "execution_count": 73,
   "metadata": {},
   "outputs": [],
   "source": [
    "def binomialCI(ntot,nsuc,alpha):\n",
    "   obsprob=nsuc/ntot # observed probability of success\n",
    "\n",
    "   al2=alpha/2 # half of uncertainty\n",
    "   if nsuc==0: # no successes observed\n",
    "      plo=0  # the lower bound must be zero\n",
    "   else: # use a nonlinear equation solver\n",
    "      plo=fsolve(lambda x: stats.binom.cdf(nsuc-1,ntot,x)-1+al2, obsprob)[0]\n",
    "\n",
    "   if nsuc==ntot: #no failures observed \n",
    "      pup=1 # the upper bound must be one\n",
    "   else: # use a nonlinear equation solver\n",
    "      pup=fsolve(lambda x: stats.binom.cdf(nsuc,ntot,x)-al2,obsprob)[0] # nonlinear equation\n",
    "   \n",
    "   exactci=np.array([plo,pup]) #confidence interval based on exact probabilities\n",
    "   cltci= obsprob+ np.array([-1,1])*(-stats.norm.ppf(al2)*np.sqrt(obsprob*(1-obsprob))/np.sqrt(ntot))\n",
    "   return exactci,cltci"
   ]
  },
  {
   "cell_type": "markdown",
   "metadata": {},
   "source": [
    "#### quantileCI function"
   ]
  },
  {
   "cell_type": "code",
   "execution_count": 111,
   "metadata": {},
   "outputs": [],
   "source": [
    "def quantileCI(quant,Xsample,extremes,alpha):\n",
    "   n = len(Xsample) # number of samples\n",
    "   Xorder = np.zeros(n+2)\n",
    "   Xorder[0] = extremes[0]\n",
    "   Xorder[1:n+1] = sorted(Xsample)\n",
    "   Xorder[n+1] = extremes[1]\n",
    "   al2 = alpha/2 # half significance level\n",
    "   lo = 1+stats.binom.ppf(al2,n,quant); # position of the lower bound\n",
    "   up = 2+stats.binom.ppf(1-al2,n,quant); # position of the upper bound\n",
    "   quantci=np.array([Xorder[lo.astype(int)],Xorder[up.astype(int)]]) #confidence interval for quantile\n",
    "   return quantci"
   ]
  }
 ],
 "metadata": {
  "kernelspec": {
   "display_name": "qmcpy",
   "language": "python",
   "name": "python3"
  },
  "language_info": {
   "codemirror_mode": {
    "name": "ipython",
    "version": 3
   },
   "file_extension": ".py",
   "mimetype": "text/x-python",
   "name": "python",
   "nbconvert_exporter": "python",
   "pygments_lexer": "ipython3",
   "version": "3.9.13"
  }
 },
 "nbformat": 4,
 "nbformat_minor": 2
}
