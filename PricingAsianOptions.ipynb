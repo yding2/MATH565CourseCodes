{
 "cells": [
  {
   "cell_type": "markdown",
   "metadata": {},
   "source": [
    "## Pricing Asian Style Options\n",
    "In this cript we show how to use classes in *QMCPy* for Monte Carlo option pricing of options with Asian style payoffs and European exercise.\n",
    " \n",
    "- The payoff depends on the whole asset price path, not only on the terminal asset price.\n",
    "- The option is only exercised at expiry, unlike American options, which can be exercised at any time before expiry.\n"
   ]
  },
  {
   "cell_type": "code",
   "execution_count": 1,
   "metadata": {},
   "outputs": [],
   "source": [
    "# Import necessary packages\n",
    "import qmcpy as qp\n",
    "import numpy as np\n",
    "from scipy import stats\n",
    "import matplotlib.pyplot as plt\n",
    "import time"
   ]
  },
  {
   "cell_type": "markdown",
   "metadata": {},
   "source": [
    "### European Options"
   ]
  },
  {
   "cell_type": "code",
   "execution_count": 29,
   "metadata": {},
   "outputs": [],
   "source": [
    "initPrice = 120; # initial stock price\n",
    "interest = 0.02 # risk-free interest rate\n",
    "volatility = 0.5 # volatility\n",
    "callput = 'call' # call options\n",
    "strike = 130 # strike price\n",
    "tfinal = 1/4 # mature time\n",
    "d = 4 # number of observations\n",
    "absTol = 0.05 # absolute tolerance of a nickel\n",
    "relTol = 0 # zero relative tolerance\n",
    "sampleSize = 2**4 # numbbeer of smaple size\n"
   ]
  },
  {
   "cell_type": "code",
   "execution_count": 30,
   "metadata": {},
   "outputs": [
    {
     "name": "stdout",
     "output_type": "stream",
     "text": [
      "The exact price of this European Option is  8.2779\n",
      "After generate  16 digital net instances, the estimation of the fair price is nan\n"
     ]
    },
    {
     "name": "stderr",
     "output_type": "stream",
     "text": [
      "/Users/yding/Documents/GitHub/QMCSoftware/qmcpy/true_measure/gaussian.py:75\n",
      "\tRuntimeWarning: invalid value encountered in matmul\n"
     ]
    }
   ],
   "source": [
    "eo = qp.EuropeanOption(qp.DigitalNetB2(dimension=d,seed=7), volatility= volatility,start_price= initPrice,\n",
    "                       strike_price=strike, interest_rate = interest,t_final=1/4,call_put=callput)\n",
    "x = eo.discrete_distrib.gen_samples(sampleSize)\n",
    "y = eo.f(x)\n",
    "print(\"The exact price of this European Option is \",f\"{eo.get_exact_value():.4f}\")\n",
    "print(\"After generate \", sampleSize,\"digital net instances, the estimation of the fair price is\",y.mean())"
   ]
  },
  {
   "cell_type": "code",
   "execution_count": 32,
   "metadata": {},
   "outputs": [
    {
     "data": {
      "text/plain": [
       "EuropeanOption (Integrand Object)\n",
       "    volatility      2^(-1)\n",
       "    call_put        call\n",
       "    start_price     120\n",
       "    strike_price    130\n",
       "    interest_rate   0.020"
      ]
     },
     "execution_count": 32,
     "metadata": {},
     "output_type": "execute_result"
    }
   ],
   "source": [
    "eo"
   ]
  },
  {
   "cell_type": "code",
   "execution_count": 33,
   "metadata": {},
   "outputs": [
    {
     "name": "stdout",
     "output_type": "stream",
     "text": [
      "After generate  16 digital net instances, the estimation of the fair price is nan\n"
     ]
    },
    {
     "name": "stderr",
     "output_type": "stream",
     "text": [
      "/Users/yding/Documents/GitHub/QMCSoftware/qmcpy/true_measure/gaussian.py:75\n",
      "\tRuntimeWarning: invalid value encountered in matmul\n"
     ]
    }
   ],
   "source": [
    "ac = qp.AsianOption(qp.DigitalNetB2(dimension=d,seed=7), volatility= volatility,start_price= initPrice,\n",
    "                       strike_price=strike, interest_rate = interest,t_final=1/4,call_put=callput)\n",
    "ac\n",
    "x = ac.discrete_distrib.gen_samples(sampleSize)\n",
    "y = ac.f(x)\n",
    "print(\"After generate \", sampleSize,\"digital net instances, the estimation of the fair price is\",y.mean())"
   ]
  },
  {
   "cell_type": "code",
   "execution_count": 34,
   "metadata": {},
   "outputs": [
    {
     "data": {
      "text/plain": [
       "array([[0., 0., 0., 0.],\n",
       "       [0., 0., 0., 0.],\n",
       "       [0., 0., 0., 0.],\n",
       "       [0., 0., 0., 0.],\n",
       "       [0., 0., 0., 0.],\n",
       "       [0., 0., 0., 0.],\n",
       "       [0., 0., 0., 0.],\n",
       "       [0., 0., 0., 0.],\n",
       "       [0., 0., 0., 0.],\n",
       "       [0., 0., 0., 0.],\n",
       "       [0., 0., 0., 0.],\n",
       "       [0., 0., 0., 0.],\n",
       "       [0., 0., 0., 0.],\n",
       "       [0., 0., 0., 0.],\n",
       "       [0., 0., 0., 0.],\n",
       "       [0., 0., 0., 0.]])"
      ]
     },
     "execution_count": 34,
     "metadata": {},
     "output_type": "execute_result"
    }
   ],
   "source": [
    "x"
   ]
  },
  {
   "cell_type": "code",
   "execution_count": 35,
   "metadata": {},
   "outputs": [
    {
     "name": "stderr",
     "output_type": "stream",
     "text": [
      "/Users/yding/Documents/GitHub/QMCSoftware/qmcpy/true_measure/gaussian.py:75\n",
      "\tRuntimeWarning: invalid value encountered in matmul\n"
     ]
    },
    {
     "data": {
      "text/plain": [
       "nan"
      ]
     },
     "execution_count": 35,
     "metadata": {},
     "output_type": "execute_result"
    }
   ],
   "source": [
    "ac = qp.AsianOption(qp.DigitalNetB2(4,seed=7))\n",
    "x = ac.discrete_distrib.gen_samples(2**12)\n",
    "y = ac.f(x)\n",
    "y.mean()"
   ]
  }
 ],
 "metadata": {
  "kernelspec": {
   "display_name": "qmcpy",
   "language": "python",
   "name": "python3"
  },
  "language_info": {
   "codemirror_mode": {
    "name": "ipython",
    "version": 3
   },
   "file_extension": ".py",
   "mimetype": "text/x-python",
   "name": "python",
   "nbconvert_exporter": "python",
   "pygments_lexer": "ipython3",
   "version": "3.9.13"
  }
 },
 "nbformat": 4,
 "nbformat_minor": 2
}
