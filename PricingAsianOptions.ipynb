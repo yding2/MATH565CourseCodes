{
 "cells": [
  {
   "cell_type": "markdown",
   "metadata": {},
   "source": [
    "## Pricing Asian Style Options\n",
    "In this cript we show how to use classes in *QMCPy* for Monte Carlo option pricing of options with Asian style payoffs and European exercise.\n",
    " \n",
    "- The payoff depends on the whole asset price path, not only on the terminal asset price.\n",
    "- The option is only exercised at expiry, unlike American options, which can be exercised at any time before expiry.\n"
   ]
  },
  {
   "cell_type": "code",
   "execution_count": 2,
   "metadata": {},
   "outputs": [
    {
     "name": "stderr",
     "output_type": "stream",
     "text": [
      "/Users/yding/opt/anaconda3/envs/qmcpy/lib/python3.9/site-packages/scipy/__init__.py:155\n",
      "\tUserWarning: A NumPy version >=1.18.5 and <1.26.0 is required for this version of SciPy (detected version 1.26.4\n"
     ]
    }
   ],
   "source": [
    "# Import necessary packages\n",
    "import qmcpy as qp\n",
    "import numpy as np\n",
    "from scipy import stats\n",
    "import matplotlib.pyplot as plt\n",
    "import time"
   ]
  },
  {
   "cell_type": "markdown",
   "metadata": {},
   "source": [
    "### European Options"
   ]
  },
  {
   "cell_type": "code",
   "execution_count": 27,
   "metadata": {},
   "outputs": [],
   "source": [
    "initPrice = 120 # initial stock price\n",
    "interest = 0.02 # risk-free interest rate\n",
    "vol = 0.5 # volatility\n",
    "callput = 'call' # call options\n",
    "strike = 130 # strike price\n",
    "tfinal = 1/4 # mature time\n",
    "d = 12 # number of observations\n",
    "absTol = 0.05 # absolute tolerance of a nickel\n",
    "relTol = 0 # zero relative tolerance\n",
    "sampleSize = 10**6 # number of smaple size\n",
    "absTol = 0.05 # absolute tolerance of a nickel"
   ]
  },
  {
   "cell_type": "code",
   "execution_count": 28,
   "metadata": {},
   "outputs": [
    {
     "name": "stdout",
     "output_type": "stream",
     "text": [
      "The exact price of this European Call Option is  8.2779\n",
      "To reach the absolute error tolerance =  0.05 , we need to generate  1,346,469 iid points,the estimation of the fair price is 8.2671\n"
     ]
    }
   ],
   "source": [
    "EuroCall = qp.EuropeanOption(qp.IIDStdUniform(dimension=d,seed=7), volatility= vol,start_price= initPrice,\n",
    "                       strike_price=strike, interest_rate = interest,t_final=1/4,call_put=callput)\n",
    "print(\"The exact price of this European Call Option is \",f\"{EuroCall.get_exact_value():.4f}\")\n",
    "sc = qp.CubMCCLT(EuroCall,absTol)\n",
    "solution, data = sc.integrate()\n",
    "print(\"To reach the absolute error tolerance = \",absTol, \", we need to generate \", f\"{int(data.n_total):,}\",\n",
    "      \"iid points, the estimation of the fair price is\",f\"{solution:.4f}\")"
   ]
  },
  {
   "cell_type": "markdown",
   "metadata": {},
   "source": [
    "### Arithmetic Mean Options\n",
    "The payoff of the arithmetic mean option depends on the average of the\n",
    "stock price, not the final stock price.  Here are the discounted payoffs:\n",
    "\n",
    "$$\\begin{array}{rcc}\n",
    " & \\textbf{call} & \\textbf{put} \\\\ \\hline\n",
    "\\textbf{payoff} & \n",
    "\\displaystyle \\max\\biggl(\\frac 1d \\sum_{j=1}^d S(jT/d) - K,0 \\biggr)\\mathsf{e}^{-rT} & \n",
    "\\displaystyle \\max\\biggl(K - \\frac 1d \\sum_{j=1}^d S(jT/d),0 \\biggr)\\mathsf{e}^{-rT} \n",
    "\\end{array}\n",
    "$$"
   ]
  },
  {
   "cell_type": "code",
   "execution_count": 29,
   "metadata": {},
   "outputs": [
    {
     "name": "stdout",
     "output_type": "stream",
     "text": [
      "To reach the absolute error tolerance =  0.05 , we need to generate  287,434 iid points, the estimation of the fair price is 3.3908\n"
     ]
    }
   ],
   "source": [
    "meanType = 'arithmetic'\n",
    "ArithMeanCall = qp.AsianOption(qp.IIDStdUniform(dimension=d,seed=7), volatility= vol,start_price= initPrice, \n",
    "                               strike_price=strike, interest_rate = interest,t_final=1/4,call_put=callput,mean_type=meanType)\n",
    "sc = qp.CubMCCLT(ArithMeanCall,absTol)\n",
    "solution, data = sc.integrate()\n",
    "print(\"To reach the absolute error tolerance = \",absTol, \", we need to generate \", f\"{int(data.n_total):,}\",\n",
    "      \"iid points, the estimation of the fair price is\",f\"{solution:.4f}\")"
   ]
  },
  {
   "cell_type": "markdown",
   "metadata": {},
   "source": [
    "The price of the Asian arithmetic mean call option is smaller than the price of the European call option.  \n",
    "\n",
    "We may also price the Asian arithmetic mean put option as follows:"
   ]
  },
  {
   "cell_type": "code",
   "execution_count": 30,
   "metadata": {},
   "outputs": [
    {
     "name": "stdout",
     "output_type": "stream",
     "text": [
      "To reach the absolute error tolerance =  0.05 , we need to generate  524,796 iid points, the estimation of the fair price is 13.0118\n"
     ]
    }
   ],
   "source": [
    "ArithMeanPut = ArithMeanCall\n",
    "ArithMeanPut.call_put = 'put'\n",
    "sc = qp.CubMCCLT(ArithMeanPut,absTol)\n",
    "solution, data = sc.integrate()\n",
    "print(\"To reach the absolute error tolerance = \",absTol, \", we need to generate \", f\"{int(data.n_total):,}\",\n",
    "      \"iid points, the estimation of the fair price is\",f\"{solution:.4f}\")"
   ]
  },
  {
   "cell_type": "markdown",
   "metadata": {},
   "source": [
    "Note that the price is greater.  This is because one strike price is\n",
    "above the initial price, making the expected payoff greater.\n",
    "\n",
    "In the limit of continuous monitoring $d \\to \\infty$, the payoff is \n",
    "\n",
    "$$\n",
    "\\begin{array}{rcc}\n",
    "& \\textbf{call} & \\textbf{put} \\\\ \\hline\n",
    "\\textbf{payoff} & \n",
    "\\displaystyle \\max\\biggl(\\frac 1T \\int_{0}^T S(t) \\, {\\rm d} t - K,0 \\biggr)\\mathsf{e}^{-rT} & \n",
    "\\displaystyle \\max\\biggl(K - \\frac 1T \\int_{0}^T S(t) \\, {\\rm d} t,0 \\biggr)\\mathsf{e}^{-rT} \n",
    "\\end{array} \n",
    "$$\n",
    "\n",
    "Such an option can be approximated by taking smaller time steps:"
   ]
  },
  {
   "cell_type": "code",
   "execution_count": 31,
   "metadata": {},
   "outputs": [
    {
     "name": "stdout",
     "output_type": "stream",
     "text": [
      "To reach the absolute error tolerance =  0.05 , we need to generate  262,466 iid points, the estimation of the fair price is 3.3739\n"
     ]
    }
   ],
   "source": [
    "d = 62 # Daily Monitoring\n",
    "ArithMeanCall.sampler = qp.IIDStdUniform(dimension=d,seed=7)\n",
    "ArithMeanCall.call_put = 'call'\n",
    "ArithMeanCall = qp.AsianOption(qp.IIDStdUniform(dimension=d,seed=7), volatility= vol,start_price= initPrice, \n",
    "                               strike_price=strike, interest_rate = interest,t_final=1/4,call_put=callput,mean_type=meanType)\n",
    "sc = qp.CubMCCLT(ArithMeanCall,absTol)\n",
    "solution, data = sc.integrate()\n",
    "print(\"To reach the absolute error tolerance = \",absTol, \", we need to generate \", f\"{int(data.n_total):,}\",\n",
    "      \"iid points, the estimation of the fair price is\",f\"{solution:.4f}\")"
   ]
  },
  {
   "cell_type": "markdown",
   "metadata": {},
   "source": [
    "The price is a bit lower, and the time is longer because more time steps are needed, which means more random variables are needed."
   ]
  },
  {
   "cell_type": "markdown",
   "metadata": {},
   "source": [
    "### Geometric Mean Options\n",
    "One can also base the payoff on a geometric mean rather than an arithmetic mean.  Such options have a closed form solution.  \n",
    "\n",
    "The price of\n",
    "a geometric mean \n",
    "$\n",
    "\\begin{Bmatrix} \n",
    "\\text{call} \\\\ \n",
    "\\text{put}\n",
    "\\end{Bmatrix}$\n",
    "option is \n",
    "$\\begin{Bmatrix} \\le \\\\\n",
    "\\ge \\end{Bmatrix}$\n",
    "the\n",
    "price of an arithmetic mean $\\begin{Bmatrix} \\text{call} \\\\\\text{put} \\end{Bmatrix}$ option because a geometric mean is smaller\n",
    "than an arithmetic mean."
   ]
  },
  {
   "cell_type": "code",
   "execution_count": 32,
   "metadata": {},
   "outputs": [
    {
     "name": "stdout",
     "output_type": "stream",
     "text": [
      "To reach the absolute error tolerance =  0.05 , we need to generate  598,881 iid points, the estimation of the fair price is 13.4233\n"
     ]
    }
   ],
   "source": [
    "GeoMeanPut = ArithMeanCall\n",
    "d = 12 #Weekly Monitoring for three months\n",
    "GeoMeanPut.sampler = qp.IIDStdUniform(dimension=d,seed=7) \n",
    "GeoMeanPut.mean_type = 'geometric'\n",
    "GeoMeanPut.call_put = 'put'\n",
    "sc = qp.CubMCCLT(GeoMeanPut,absTol)\n",
    "solution, data = sc.integrate()\n",
    "print(\"To reach the absolute error tolerance = \",absTol, \", we need to generate \", f\"{int(data.n_total):,}\",\n",
    "      \"iid points, the estimation of the fair price is\",f\"{solution:.4f}\")"
   ]
  },
  {
   "cell_type": "code",
   "execution_count": 33,
   "metadata": {},
   "outputs": [
    {
     "name": "stdout",
     "output_type": "stream",
     "text": [
      "To reach the absolute error tolerance =  0.05 , we need to generate  194,906 iid points, the estimation of the fair price is 3.1674\n"
     ]
    }
   ],
   "source": [
    "GeoMeanCall = GeoMeanPut\n",
    "GeoMeanPut.call_put = 'call'\n",
    "sc = qp.CubMCCLT(GeoMeanCall,absTol)\n",
    "solution, data = sc.integrate()\n",
    "print(\"To reach the absolute error tolerance = \",absTol, \", we need to generate \", f\"{int(data.n_total):,}\",\n",
    "      \"iid points, the estimation of the fair price is\",f\"{solution:.4f}\")"
   ]
  },
  {
   "cell_type": "markdown",
   "metadata": {},
   "source": [
    "### Barrier Option\n",
    "In barrier options the payoff only occurs if the asset price crosses or\n",
    "fails to cross a barrier, $b$\n",
    "\n",
    "$$\n",
    "\\begin{array}{rcc}\n",
    " & \\textbf{up} (S(0) < b) & \\textbf{down} (S(0) > b) \\\\ \\hline\n",
    " \\textbf{in} & \\text{active if } S(t) \\ge b & \\text{active if } S(t) \\le\n",
    " b \\\\\n",
    " \\textbf{out} & \\text{inactive if } S(t) \\ge b & \\text{inactive if } S(t) \\le\n",
    " b \n",
    " \\end{array}\n",
    "$$\n",
    "\n",
    "For the barrier option with a European call type payoff, this corresponds to \n",
    "\n",
    "$$\n",
    " \\begin{array}{rcc}\n",
    " \\textbf{payoff} & \\textbf{up} (S(0) < b) & \\textbf{down} (S(0) > b) \\\\ \\hline\n",
    " \\textbf{in} & \n",
    " 1_{[b,\\infty)}(\\max_{0 \\le t \\le T} S(t)) \\max(S(T)-K,0)\\mathsf{e}^{-rT} & \n",
    " 1_{[0,b]}(\\min_{0 \\le t \\le T} S(t)) \\max(S(T)-K,0)\\mathsf{e}^{-rT} \\\\\n",
    " \\textbf{out} & 1_{[0,b)}(\\max_{0 \\le t \\le T} S(t)) \\max(S(T)-K,0)\\mathsf{e}^{-rT} & \n",
    " 1_{[b,\\infty)}(\\min_{0 \\le t \\le T} S(t)) \\max(S(T)-K,0)\\mathsf{e}^{-rT}\n",
    " \\end{array}\n",
    "$$"
   ]
  },
  {
   "cell_type": "code",
   "execution_count": 35,
   "metadata": {},
   "outputs": [
    {
     "name": "stdout",
     "output_type": "stream",
     "text": [
      "To reach the absolute error tolerance =  0.05 , we need to generate  1,360,734 iid points, the estimation of the fair price is 7.3984\n"
     ]
    }
   ],
   "source": [
    "barrier = 150\n",
    "inOutType = 'in'\n",
    "BarrierUpInCall = qp.BarrierOption(qp.IIDStdUniform(dimension=d,seed=7), volatility= vol,start_price= initPrice,\n",
    "                       strike_price=strike, barrier_price=barrier,interest_rate = interest,t_final=1/4,\n",
    "                       call_put='call', in_out = inOutType)\n",
    "sc = qp.CubMCCLT(BarrierUpInCall,absTol)\n",
    "solution, data = sc.integrate()\n",
    "print(\"To reach the absolute error tolerance = \",absTol, \", we need to generate \", f\"{int(data.n_total):,}\",\n",
    "      \"iid points, the estimation of the fair price is\",f\"{solution:.4f}\")"
   ]
  },
  {
   "cell_type": "markdown",
   "metadata": {},
   "source": [
    "Note that this price is less than the European call option because the asset price must cross the barrier for the option to become active."
   ]
  },
  {
   "cell_type": "markdown",
   "metadata": {},
   "source": [
    "### Lookback Options\n",
    "Lookback options do not use a strike price but use the minimum or maximum asset price as their strike.  The discounted payoffs are\n",
    "\n",
    "$$\n",
    "\\begin{array}{rcc}\n",
    "& \\textbf{call} & \\textbf{put} \\\\ \\hline\n",
    " \\textbf{payoff} & \n",
    " \\displaystyle \\Bigl(S(T) - \\min_{0 \\le t \\le T} S(t),0 \\Bigr)\\mathsf{e}^{-rT} & \n",
    " \\displaystyle \\Bigl(\\max_{0 \\le t \\le T} S(t) - S(T),0 \\Bigr)\\mathsf{e}^{-rT} \n",
    " \\end{array}\n",
    "$$\n",
    "\n",
    "where the values of $t$ considered for the minimum or maximum are either discrete, $0, T/d, \\dots, T$, or continuous.  Note that we would\n",
    "expect the prices of these options to be greater than their out of the money European counterparts."
   ]
  },
  {
   "cell_type": "code",
   "execution_count": 11,
   "metadata": {},
   "outputs": [
    {
     "ename": "AttributeError",
     "evalue": "module 'qmcpy' has no attribute 'LookbackOption'",
     "output_type": "error",
     "traceback": [
      "\u001b[0;31m---------------------------------------------------------------------------\u001b[0m",
      "\u001b[0;31mAttributeError\u001b[0m                            Traceback (most recent call last)",
      "Cell \u001b[0;32mIn[11], line 1\u001b[0m\n\u001b[0;32m----> 1\u001b[0m LookCall \u001b[38;5;241m=\u001b[39m \u001b[43mqp\u001b[49m\u001b[38;5;241;43m.\u001b[39;49m\u001b[43mLookbackOption\u001b[49m(qp\u001b[38;5;241m.\u001b[39mIIDStdUniform(dimension\u001b[38;5;241m=\u001b[39md,seed\u001b[38;5;241m=\u001b[39m\u001b[38;5;241m7\u001b[39m), volatility\u001b[38;5;241m=\u001b[39m vol,start_price\u001b[38;5;241m=\u001b[39m initPrice,\n\u001b[1;32m      2\u001b[0m                             interest_rate \u001b[38;5;241m=\u001b[39m interest,t_final\u001b[38;5;241m=\u001b[39m\u001b[38;5;241m1\u001b[39m\u001b[38;5;241m/\u001b[39m\u001b[38;5;241m4\u001b[39m,call_put\u001b[38;5;241m=\u001b[39m\u001b[38;5;124m'\u001b[39m\u001b[38;5;124mcall\u001b[39m\u001b[38;5;124m'\u001b[39m)\n\u001b[1;32m      3\u001b[0m x \u001b[38;5;241m=\u001b[39m LookCall\u001b[38;5;241m.\u001b[39mdiscrete_distrib\u001b[38;5;241m.\u001b[39mgen_samples(sampleSize)\n\u001b[1;32m      4\u001b[0m y \u001b[38;5;241m=\u001b[39m LookCall\u001b[38;5;241m.\u001b[39mf(x)\n",
      "\u001b[0;31mAttributeError\u001b[0m: module 'qmcpy' has no attribute 'LookbackOption'"
     ]
    }
   ],
   "source": [
    "LookCall = qp.LookbackOption(qp.IIDStdUniform(dimension=d,seed=7), volatility= vol,start_price= initPrice,\n",
    "                            interest_rate = interest,t_final=1/4,call_put='call')\n",
    "sc = qp.CubMCCLT(LookCall,absTol)\n",
    "solution, data = sc.integrate()\n",
    "print(\"To reach the absolute error tolerance = \",absTol, \", we need to generate \", f\"{int(data.n_total):,}\",\n",
    "      \"iid points, the estimation of the fair price is\",f\"{solution:.4f}\")"
   ]
  },
  {
   "cell_type": "code",
   "execution_count": 5,
   "metadata": {},
   "outputs": [
    {
     "ename": "TypeError",
     "evalue": "__init__() missing 1 required positional argument: 'dim_frac'",
     "output_type": "error",
     "traceback": [
      "\u001b[0;31m---------------------------------------------------------------------------\u001b[0m",
      "\u001b[0;31mTypeError\u001b[0m                                 Traceback (most recent call last)",
      "Cell \u001b[0;32mIn[5], line 1\u001b[0m\n\u001b[0;32m----> 1\u001b[0m LookbackCall \u001b[38;5;241m=\u001b[39m \u001b[43mqp\u001b[49m\u001b[38;5;241;43m.\u001b[39;49m\u001b[43mLookBackOption\u001b[49m\u001b[43m(\u001b[49m\u001b[43mqp\u001b[49m\u001b[38;5;241;43m.\u001b[39;49m\u001b[43mDigitalNetB2\u001b[49m\u001b[43m(\u001b[49m\u001b[38;5;241;43m4\u001b[39;49m\u001b[43m,\u001b[49m\u001b[43mseed\u001b[49m\u001b[38;5;241;43m=\u001b[39;49m\u001b[38;5;241;43m7\u001b[39;49m\u001b[43m)\u001b[49m\u001b[43m)\u001b[49m\n",
      "File \u001b[0;32m~/Documents/GitHub/QMCSoftware/qmcpy/integrand/LookBackOption.py:25\u001b[0m, in \u001b[0;36mLookBackOption.__init__\u001b[0;34m(self, sampler, volatility, start_price, interest_rate, t_final, call_put, multilevel_dims, decomp_type, _dim_frac)\u001b[0m\n\u001b[1;32m      9\u001b[0m \u001b[38;5;28;01mdef\u001b[39;00m \u001b[38;5;21m__init__\u001b[39m(\u001b[38;5;28mself\u001b[39m, sampler, volatility\u001b[38;5;241m=\u001b[39m\u001b[38;5;241m0.5\u001b[39m, start_price\u001b[38;5;241m=\u001b[39m\u001b[38;5;241m30.\u001b[39m, interest_rate\u001b[38;5;241m=\u001b[39m\u001b[38;5;241m0.\u001b[39m, \n\u001b[1;32m     10\u001b[0m              t_final\u001b[38;5;241m=\u001b[39m\u001b[38;5;241m1\u001b[39m, call_put\u001b[38;5;241m=\u001b[39m\u001b[38;5;124m'\u001b[39m\u001b[38;5;124mcall\u001b[39m\u001b[38;5;124m'\u001b[39m, multilevel_dims\u001b[38;5;241m=\u001b[39m\u001b[38;5;28;01mNone\u001b[39;00m, decomp_type\u001b[38;5;241m=\u001b[39m\u001b[38;5;124m'\u001b[39m\u001b[38;5;124mPCA\u001b[39m\u001b[38;5;124m'\u001b[39m, _dim_frac\u001b[38;5;241m=\u001b[39m\u001b[38;5;241m0\u001b[39m):\n\u001b[1;32m     11\u001b[0m \u001b[38;5;250m    \u001b[39m\u001b[38;5;124;03m\"\"\"\u001b[39;00m\n\u001b[1;32m     12\u001b[0m \u001b[38;5;124;03m    Args:\u001b[39;00m\n\u001b[1;32m     13\u001b[0m \u001b[38;5;124;03m        sampler (DiscreteDistribution/TrueMeasure): A \u001b[39;00m\n\u001b[0;32m   (...)\u001b[0m\n\u001b[1;32m     22\u001b[0m \u001b[38;5;124;03m        _dim_frac (float): for internal use only, users should not set this parameter. \u001b[39;00m\n\u001b[1;32m     23\u001b[0m \u001b[38;5;124;03m    \"\"\"\u001b[39;00m\n\u001b[0;32m---> 25\u001b[0m     \u001b[38;5;28;43msuper\u001b[39;49m\u001b[43m(\u001b[49m\u001b[43mLookBackOption\u001b[49m\u001b[43m,\u001b[49m\u001b[43m \u001b[49m\u001b[38;5;28;43mself\u001b[39;49m\u001b[43m)\u001b[49m\u001b[38;5;241;43m.\u001b[39;49m\u001b[38;5;21;43m__init__\u001b[39;49m\u001b[43m(\u001b[49m\u001b[43msampler\u001b[49m\u001b[43m,\u001b[49m\u001b[43m \u001b[49m\u001b[43mvolatility\u001b[49m\u001b[43m,\u001b[49m\u001b[43m \u001b[49m\u001b[43mstart_price\u001b[49m\u001b[43m,\u001b[49m\u001b[43m \u001b[49m\u001b[43minterest_rate\u001b[49m\u001b[43m,\u001b[49m\u001b[43m \u001b[49m\u001b[43mt_final\u001b[49m\u001b[43m,\u001b[49m\u001b[43m \u001b[49m\u001b[43mcall_put\u001b[49m\u001b[43m,\u001b[49m\u001b[43m \u001b[49m\u001b[43mmultilevel_dims\u001b[49m\u001b[43m,\u001b[49m\u001b[43m \u001b[49m\u001b[43m_dim_frac\u001b[49m\u001b[43m)\u001b[49m\n\u001b[1;32m     26\u001b[0m     \u001b[38;5;28mself\u001b[39m\u001b[38;5;241m.\u001b[39mtrue_measure \u001b[38;5;241m=\u001b[39m BrownianMotion(\u001b[38;5;28mself\u001b[39m\u001b[38;5;241m.\u001b[39msampler, \u001b[38;5;28mself\u001b[39m\u001b[38;5;241m.\u001b[39mt_final, decomp_type\u001b[38;5;241m=\u001b[39mdecomp_type)\n",
      "\u001b[0;31mTypeError\u001b[0m: __init__() missing 1 required positional argument: 'dim_frac'"
     ]
    }
   ],
   "source": [
    "LookbackCall = qp.LookBackOption(qp.DigitalNetB2(4,seed=7))"
   ]
  }
 ],
 "metadata": {
  "kernelspec": {
   "display_name": "qmcpy",
   "language": "python",
   "name": "python3"
  },
  "language_info": {
   "codemirror_mode": {
    "name": "ipython",
    "version": 3
   },
   "file_extension": ".py",
   "mimetype": "text/x-python",
   "name": "python",
   "nbconvert_exporter": "python",
   "pygments_lexer": "ipython3",
   "version": "3.9.13"
  }
 },
 "nbformat": 4,
 "nbformat_minor": 2
}
