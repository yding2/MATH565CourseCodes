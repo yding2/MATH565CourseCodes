{
 "cells": [
  {
   "cell_type": "markdown",
   "metadata": {},
   "source": [
    "## CLT-Based Confidence Intervals Can Fail\n",
    "\n",
    "In many cases, one can successfully use the Central Limit Theorem (CLT)\n",
    "to compute a confidence interval or to build an automatic Monte Carlo\n",
    "algorithm.  See *OptionPricingMeanMC_CLT* for an example.  However, an\n",
    "analysis based on the CLT is heuristic, not rigorous.  This example\n",
    "points to how CLT based confidence intervals might fail.\n"
   ]
  },
  {
   "cell_type": "code",
   "execution_count": 53,
   "metadata": {},
   "outputs": [],
   "source": [
    "# Import necessary packages\n",
    "import numpy as np\n",
    "from scipy.stats import norm"
   ]
  },
  {
   "cell_type": "markdown",
   "metadata": {},
   "source": [
    "# The test case\n",
    "\n",
    "Consider the case of $Y = X^p$ where $X \\sim \\mathcal{U}(0,1)$.  Then\n",
    "we can compute that \n",
    "\n",
    "\\begin{gather*}\n",
    "\\mu = \\int_0^1 x^p \\, {\\rm d} x  = \\frac{1}{p+1}, \\qquad \\text{provided }\n",
    "p > -1, \\\\\n",
    "\\mathbb{E}(Y^2) = \\int_0^1 x^{2p} \\, {\\rm d} x  = \\frac{1}{2p+1}, \\qquad \\text{provided }\n",
    "p > -1/2, \\\\\n",
    "\\text{var}(Y) = \\mathbb{E}(Y^2) - \\mu^2  = \\frac{p^2}{(2p+1)(p+1)^2}, \\qquad \\text{provided }\n",
    "p > -1/2.\n",
    "\\end{gather*}\n"
   ]
  },
  {
   "cell_type": "markdown",
   "metadata": {},
   "source": [
    "# Set up parameters\n",
    "Now we try using *meanMC_CLT* on this test case"
   ]
  },
  {
   "cell_type": "code",
   "execution_count": 54,
   "metadata": {},
   "outputs": [],
   "source": [
    "absTol = 0.01 #relative error tolerance\n",
    "relTol = 0 # relative error tolerance\n",
    "alpha = 0.01 #uncertainty\n",
    "Ntry = 5000 #number of trials\n",
    "Y = lambda n,p: np.power(np.random.rand(n,1),p) #Y=X^p where X is standard uniform\n",
    "mu =lambda p: 1/(p+1) #true answer\n",
    "muhat = np.zeros((Ntry,1))"
   ]
  },
  {
   "cell_type": "markdown",
   "metadata": {},
   "source": [
    "### Run the simulation for a nice $p$"
   ]
  },
  {
   "cell_type": "code",
   "execution_count": 59,
   "metadata": {},
   "outputs": [],
   "source": [
    "\n",
    "p = 0.4; # should be >-1 for mu to be finite, and >-0.5 for var(Y) to be finite\n",
    "\n",
    "for j  in  range(Ntry): # perform Monte Carlo Ntry times\n",
    "    muhat[j], nSamples =meanMC_CLT(lambda n:Y(n,p),absTol,relTol,alpha) #estimated mu using CLT confidence intervals\n",
    "\n",
    "err = abs(mu(p)-muhat) # compute true error\n",
    "fail = np.mean(err>absTol) #proportion of failures to meet tolerance"
   ]
  },
  {
   "cell_type": "code",
   "execution_count": 61,
   "metadata": {},
   "outputs": [
    {
     "name": "stdout",
     "output_type": "stream",
     "text": [
      "For Y = X.^ 0.4  with X distributed uniformly on [0, 1]\n",
      "For an uncertainty =  1.0 %, with 1000 initial sample size and 1.2 as the inflation factor\n",
      "The absolute error tolerence is  0.01  the true mean =  0.7142857142857143\n",
      "The CLT-based confidence interval fails  0.16 % of the time for 5000 trials\n"
     ]
    }
   ],
   "source": [
    "print(\"For Y = X.^\", p, \" with X distributed uniformly on [0, 1]\")\n",
    "print(\"For an uncertainty = \", 100*alpha, \"%, with 1000 initial sample size and 1.2 as the inflation factor\")\n",
    "print(\"The absolute error tolerence is \", absTol, ' the true mean = ', mu(p) )\n",
    "print(\"The CLT-based confidence interval fails \",100*fail, \"% of the time for\",Ntry,\"trials\")"
   ]
  },
  {
   "cell_type": "markdown",
   "metadata": {},
   "source": [
    "The above case works well.\n",
    "### Run the simulation again for a bad $p$."
   ]
  },
  {
   "cell_type": "code",
   "execution_count": 62,
   "metadata": {},
   "outputs": [
    {
     "name": "stdout",
     "output_type": "stream",
     "text": [
      "For Y = X.^ -0.4  with X distributed uniformly on [0, 1]\n",
      "For an uncertainty =  1.0 %, with 1000 initial sample size and 1.2 as the inflation factor\n",
      "The absolute error tolerence is  0.01  the true mean =  1.6666666666666667\n",
      "The CLT-based confidence interval fails  2.04 % of the time for 5000 trials\n"
     ]
    }
   ],
   "source": [
    "p = - 0.4; # should be >-1 for mu to be finite, and >-0.5 for var(Y) to be finite\n",
    "\n",
    "for j  in  range(Ntry): # perform Monte Carlo Ntry times\n",
    "    muhat[j], nSamples =meanMC_CLT(lambda n:Y(n,p),absTol,relTol,alpha) #estimated mu using CLT confidence intervals\n",
    "\n",
    "err = abs(mu(p)-muhat) # compute true error\n",
    "fail = np.mean(err>absTol) #proportion of failures to meet tolerance\n",
    "print(\"For Y = X.^\", p, \" with X distributed uniformly on [0, 1]\")\n",
    "print(\"For an uncertainty = \", 100*alpha, \"%, with 1000 initial sample size and 1.2 as the inflation factor\")\n",
    "print(\"The absolute error tolerence is \", absTol, ' the true mean = ', mu(p) )\n",
    "print(\"The CLT-based confidence interval fails \",100*fail, \"% of the time for\",Ntry,\"trials\")"
   ]
  },
  {
   "cell_type": "markdown",
   "metadata": {},
   "source": [
    "In this case the algorithm fails more than 1% of the time because the\n",
    "variance estimates are not accurate.  One can check that the variance of\n",
    "the variance is infinite."
   ]
  },
  {
   "cell_type": "code",
   "execution_count": 58,
   "metadata": {},
   "outputs": [],
   "source": [
    "def meanMC_CLT(inputRandomFuc,absTol,relTol,alpha): #Simple version of meanMC_CLT\n",
    "    nsig = 1000 # initial size of the sample\n",
    "    inflate = 1.2 # inflation rate\n",
    "    YY = inputRandomFuc(nsig)\n",
    "    sigma  = np.std(YY,ddof = 1)\n",
    "    hum = np.mean(YY)\n",
    "    sigmaUpBound = sigma * inflate #upper ound on the standard deviation\n",
    "    nmu = max(1, np.power(np.ceil(norm.ppf(1-alpha/2)*sigmaUpBound/max(absTol,relTol)),2).astype(int) )  # number of samples needed for the error tolerance\n",
    "    mu = np.mean(inputRandomFuc(nmu))\n",
    "    nSample = nsig + nmu\n",
    "    return mu, nSample"
   ]
  }
 ],
 "metadata": {
  "kernelspec": {
   "display_name": "qmcpy",
   "language": "python",
   "name": "python3"
  },
  "language_info": {
   "codemirror_mode": {
    "name": "ipython",
    "version": 3
   },
   "file_extension": ".py",
   "mimetype": "text/x-python",
   "name": "python",
   "nbconvert_exporter": "python",
   "pygments_lexer": "ipython3",
   "version": "3.9.-1"
  }
 },
 "nbformat": 4,
 "nbformat_minor": 2
}
