{
 "cells": [
  {
   "cell_type": "markdown",
   "metadata": {},
   "source": [
    "## Monte Carlo Option Pricing Example Using QMCPy\n",
    "This MATLAB script shows how to use the QMCPy to perform Monte Carlo option pricing.  The solution has a\n",
    "more rigorous foundation than CLT confidence intervals. See *OptionPricingExample* for some of the background of this example for the\n",
    "background of the problem.  See *OptionPricingMeanMC_CLT* for the solution using CLT confidence intervals."
   ]
  },
  {
   "cell_type": "code",
   "execution_count": 1,
   "metadata": {},
   "outputs": [
    {
     "name": "stderr",
     "output_type": "stream",
     "text": [
      "/Users/yding/opt/anaconda3/envs/qmcpy/lib/python3.9/site-packages/scipy/__init__.py:155\n",
      "\tUserWarning: A NumPy version >=1.18.5 and <1.26.0 is required for this version of SciPy (detected version 1.26.4\n"
     ]
    }
   ],
   "source": [
    "import qmcpy as qp\n",
    "import numpy as np\n",
    "from scipy.stats import norm\n",
    "import matplotlib.pyplot as plt\n",
    "import time"
   ]
  },
  {
   "cell_type": "code",
   "execution_count": 2,
   "metadata": {},
   "outputs": [],
   "source": [
    "S0 = 537.36 # initial stock price\n",
    "timeFinal = 1/2  # half year to expiry\n",
    "interest = 0.0050238 # interest\n",
    "volatility = 0.19654 # volatility\n",
    "SVal = lambda n: S0*np.exp((interest - volatility**2/2)*timeFinal + volatility*np.sqrt(timeFinal)*np.random.randn(n,1))\n",
    "K = 600 # strike price\n",
    "euroCallPayoff = lambda n: np.maximum(SVal(n) - K, 0) * np.exp(-interest * timeFinal) #discounted payoffs\n",
    "trueEuroCallPrice = S0 * norm.cdf((np.log(S0/K) + (interest + volatility**2/2)*timeFinal)/(volatility * np.sqrt(timeFinal))) \\\n",
    "    - K * np.exp(-interest * timeFinal) * norm.cdf((np.log(S0/K)  + (interest - volatility**2/2)*timeFinal)/(volatility * np.sqrt(timeFinal)))\n"
   ]
  },
  {
   "cell_type": "code",
   "execution_count": 7,
   "metadata": {},
   "outputs": [
    {
     "name": "stdout",
     "output_type": "stream",
     "text": [
      "The option price = $  9.869  +/- $   0.05 with  2,809,976 asset paths.\n",
      "The elpased time is 0.12123394012451172\n",
      "The exact price is   9.879\n"
     ]
    }
   ],
   "source": [
    "absTol = 0.05 # 5 cents absolute error\n",
    "relTol = 0 # no relative error\n",
    "alpha = 0.01 # Uncertainty \n",
    "start = time.time()\n",
    "euroCallPrice,nSample = meanMC_CLT(euroCallPayoff,absTol,relTol,alpha)\n",
    "end = time.time()\n",
    "print(\"The option price = $\",f\"{ euroCallPrice:6.3f}\",\" +/- $\", f\"{ absTol:6.2f}\", \"with \", f\"{int(nSample):,}\",\"asset paths.\")\n",
    "print(\"The elpased time is {}\".format(end-start))\n",
    "print(\"The exact price is \", f\"{trueEuroCallPrice:6.3f}\")"
   ]
  },
  {
   "cell_type": "markdown",
   "metadata": {},
   "source": [
    "### How to use QMCPy to estimate the option price\n",
    "There two methods we can call from QMCPy.\n",
    "* qmcpy.CubMCCLT\n",
    "* qmcpy.CubMCG\n",
    "\n",
    "Before we use these two methods, we need to create an object of European Call option."
   ]
  },
  {
   "cell_type": "code",
   "execution_count": 8,
   "metadata": {},
   "outputs": [
    {
     "name": "stdout",
     "output_type": "stream",
     "text": [
      "The exact price of this European Call Option is  9.8791\n",
      "To reach the absolute error tolerance =  0.05 , we need to generate  3,348,039 iid asset paths, the estimation of the fair price is 9.8695\n"
     ]
    }
   ],
   "source": [
    "EuroCall = qp.EuropeanOption(qp.IIDStdUniform(dimension=1,seed=7), volatility= volatility,start_price= S0,\n",
    "                       strike_price=K, interest_rate = interest,t_final=timeFinal,call_put='call')\n",
    "print(\"The exact price of this European Call Option is \",f\"{EuroCall.get_exact_value():.4f}\")\n",
    "sc = qp.CubMCCLT(EuroCall,absTol)\n",
    "solution, data = sc.integrate()\n",
    "print(\"To reach the absolute error tolerance = \",absTol, \", we need to generate \", f\"{int(data.n_total):,}\",\n",
    "      \"iid asset paths, the estimation of the fair price is\",f\"{solution:.4f}\")"
   ]
  },
  {
   "cell_type": "code",
   "execution_count": 9,
   "metadata": {},
   "outputs": [
    {
     "name": "stdout",
     "output_type": "stream",
     "text": [
      "To reach the absolute error tolerance =  0.05 , we need to generate  3,839,027 iid asset paths, the estimation of the fair price is 9.8885\n"
     ]
    }
   ],
   "source": [
    "sc = qp.CubMCG(EuroCall,absTol)\n",
    "solution, data = sc.integrate()\n",
    "print(\"To reach the absolute error tolerance = \",absTol, \", we need to generate \", f\"{int(data.n_total):,}\",\n",
    "      \"iid asset paths, the estimation of the fair price is\",f\"{solution:.4f}\")"
   ]
  },
  {
   "cell_type": "markdown",
   "metadata": {},
   "source": [
    "CubMCG is more conservative comparing to CubMCCLT."
   ]
  },
  {
   "cell_type": "markdown",
   "metadata": {},
   "source": [
    "#### meanMC_CLT function"
   ]
  },
  {
   "cell_type": "code",
   "execution_count": 3,
   "metadata": {},
   "outputs": [],
   "source": [
    "def meanMC_CLT(inputRandomFuc,absTol,relTol,alpha): #Simple version of meanMC_CLT\n",
    "    nsig = 1000 # initial size of the sample\n",
    "    inflate = 1.2 # inflation rate\n",
    "    YY = inputRandomFuc(nsig)\n",
    "    sigma  = np.std(YY,ddof = 1)\n",
    "    hum = np.mean(YY)\n",
    "    sigmaUpBound = sigma * inflate #upper ound on the standard deviation\n",
    "    nmu = max(1, np.power(np.ceil(norm.ppf(1-alpha/2)*sigmaUpBound/max(absTol,relTol)),2).astype(int) )  # number of samples needed for the error tolerance\n",
    "    mu = np.mean(inputRandomFuc(nmu))\n",
    "    nSample = nsig + nmu\n",
    "    return mu, nSample"
   ]
  }
 ],
 "metadata": {
  "kernelspec": {
   "display_name": "qmcpy",
   "language": "python",
   "name": "python3"
  },
  "language_info": {
   "codemirror_mode": {
    "name": "ipython",
    "version": 3
   },
   "file_extension": ".py",
   "mimetype": "text/x-python",
   "name": "python",
   "nbconvert_exporter": "python",
   "pygments_lexer": "ipython3",
   "version": "3.9.13"
  }
 },
 "nbformat": 4,
 "nbformat_minor": 2
}
