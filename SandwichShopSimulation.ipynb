{
 "cells": [
  {
   "cell_type": "markdown",
   "id": "a7628d6b-2256-4066-80ed-07b619dd4626",
   "metadata": {},
   "source": [
    "# Sandwich Shop Simulation\n",
    "Here we look at the case of a restaurant modeling its operations.  We can\n",
    "see how the different parameter settings affect the average profit."
   ]
  },
  {
   "cell_type": "code",
   "execution_count": null,
   "id": "8b538fb2-2a19-4dfb-a8f4-1cd5403f9e21",
   "metadata": {},
   "outputs": [],
   "source": [
    "# Import necessary packages\n",
    "import numpy as np\n",
    "import random as rd\n",
    "import matplotlib.pyplot as plt\n",
    "import time"
   ]
  },
  {
   "cell_type": "markdown",
   "id": "6bc2ebf4-dcc5-4363-a299-4bd245cca5fc",
   "metadata": {},
   "source": [
    "## Sandwich Shop Parameters\n",
    "* A sandwich shop orders $O$ sandwiches each day\n",
    "* At a fixed price of $W$ dollars.  \n",
    "* Sell price of $R$ dollars.  \n",
    "* The demand for sandwiches, $D$, is a random variable that is $\\mathcal{U}\\{5, 6, \\ldots, 35\\}$.  \n",
    "\n",
    "How much profit will be made on average? We may simulate $n$ replications of $4$ consecutive days:\n"
   ]
  },
  {
   "cell_type": "code",
   "execution_count": 4,
   "id": "fc9c295f-15b8-4e3f-9c34-11cbb871624f",
   "metadata": {},
   "outputs": [],
   "source": [
    "whole = 1  # wholesale price of sandwich\n",
    "retail = 5 # retail price of sandwich\n",
    "order = 20 # quantity of sandwiches ordered daily\n",
    "demandlo = 5 # lo end of demand\n",
    "demandhi = 35 # hi end of demand\n",
    "ndays = 3*365 # number of days for simulation\n",
    "ndvec = range(1,ndays+1)  # vector of 1 to number of days\n",
    "nreps = 10000 # number of replications\n",
    "nrvec = range(1,nreps+1) # number of replications of the simulation"
   ]
  },
  {
   "cell_type": "code",
   "execution_count": 2,
   "id": "8d4c18f5-114e-4870-8ade-19a789c9fe74",
   "metadata": {},
   "outputs": [
    {
     "data": {
      "text/plain": [
       "range(0, 10000)"
      ]
     },
     "execution_count": 2,
     "metadata": {},
     "output_type": "execute_result"
    }
   ],
   "source": []
  },
  {
   "cell_type": "code",
   "execution_count": null,
   "id": "7110fde6-fe80-491a-930f-637af03410aa",
   "metadata": {},
   "outputs": [],
   "source": []
  }
 ],
 "metadata": {
  "kernelspec": {
   "display_name": "Python 3 (ipykernel)",
   "language": "python",
   "name": "python3"
  },
  "language_info": {
   "codemirror_mode": {
    "name": "ipython",
    "version": 3
   },
   "file_extension": ".py",
   "mimetype": "text/x-python",
   "name": "python",
   "nbconvert_exporter": "python",
   "pygments_lexer": "ipython3",
   "version": "3.10.9"
  }
 },
 "nbformat": 4,
 "nbformat_minor": 5
}
