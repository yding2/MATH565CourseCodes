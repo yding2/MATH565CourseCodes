{
 "cells": [
  {
   "cell_type": "markdown",
   "id": "a7628d6b-2256-4066-80ed-07b619dd4626",
   "metadata": {},
   "source": [
    "# Sandwich Shop Simulation\n",
    "Here we look at the case of a restaurant modeling its operations.  We can\n",
    "see how the different parameter settings affect the average profit."
   ]
  },
  {
   "cell_type": "code",
   "execution_count": 2,
   "id": "8b538fb2-2a19-4dfb-a8f4-1cd5403f9e21",
   "metadata": {},
   "outputs": [],
   "source": [
    "# Import necessary packages\n",
    "import numpy as np\n",
    "import random as rd\n",
    "import matplotlib.pyplot as plt\n",
    "import time"
   ]
  },
  {
   "cell_type": "markdown",
   "id": "6bc2ebf4-dcc5-4363-a299-4bd245cca5fc",
   "metadata": {},
   "source": [
    "## Sandwich Shop Parameters\n",
    "* A sandwich shop orders $O$ sandwiches each day\n",
    "* At a fixed price of $W$ dollars.  \n",
    "* Sell price of $R$ dollars.  \n",
    "* The demand for sandwiches, $D$, is a random variable that is $\\mathcal{U}\\{5, 6, \\ldots, 35\\}$.  \n",
    "\n",
    "How much profit will be made on average? We may simulate $n$ replications of $4$ consecutive days:\n"
   ]
  },
  {
   "cell_type": "code",
   "execution_count": 52,
   "id": "fc9c295f-15b8-4e3f-9c34-11cbb871624f",
   "metadata": {},
   "outputs": [],
   "source": [
    "whole = 1  # wholesale price of sandwich\n",
    "retail = 5 # retail price of sandwich\n",
    "order = 20 # quantity of sandwiches ordered daily\n",
    "demandlo = 5 # lo end of demand\n",
    "demandhi = 35 # hi end of demand\n",
    "ndays = 3*365 # number of days for simulation\n",
    "ndvec = range(1,ndays+1)  # vector of 1 to number of days\n",
    "nreps = 10000 # number of replications\n",
    "nrvec = range(1,nreps+1) # number of replications of the simulation"
   ]
  },
  {
   "cell_type": "markdown",
   "id": "fc8fa028",
   "metadata": {},
   "source": [
    "## Perform Simulation\n",
    "* The number of sandwiches sold, $S$, is the minimum of the demand, and the number ordered\n",
    "$$S = \\min (D,O).$$\n",
    "* The profit, $P$ each day is the difference between the income and the expense:\n",
    "$$P = S \\times R - O \\times W$$\n",
    "\n",
    "In our case we are computing $P_{ij}$ for $i=1, \\ldots, n$ and $ = 1, \\ldots, m$.  Then we compute the average profit of $m$ days for each run $i$"
   ]
  },
  {
   "cell_type": "code",
   "execution_count": 53,
   "id": "210bb27b",
   "metadata": {},
   "outputs": [],
   "source": [
    "wholeprofit = 0\n",
    "for i in range(nreps):\n",
    "    for j in range(ndays):\n",
    "        demand = rd.randint(demandlo,demandhi)\n",
    "        sold = np.min([demand,order])\n",
    "        dayprofit = sold*retail-sold*whole\n",
    "        wholeprofit = dayprofit + wholeprofit\n",
    "avgprofit = wholeprofit/nreps/ndays\n"
   ]
  },
  {
   "cell_type": "code",
   "execution_count": 50,
   "id": "107dbd77",
   "metadata": {},
   "outputs": [],
   "source": [
    "demand = np.random.randint(demandlo,demandhi,[nreps,ndays]) # uniform random numbers for demand\n",
    "sold = np.minimum(demand,order) # amount of sandwiches sold that day\n",
    "dayprofit = sold*retail-order*whole # profit for the day\n",
    "avgprofitrun = np.mean(dayprofit, axis = 0) # average profit for the first m days\n",
    "avgprofit= np.mean(dayprofit)  # average profit over all runs and days"
   ]
  },
  {
   "cell_type": "code",
   "execution_count": 51,
   "id": "d6faef9a",
   "metadata": {},
   "outputs": [
    {
     "name": "stdout",
     "output_type": "stream",
     "text": [
      "For 10000 replications of 1095 days of business, \n",
      " sandwiches costing 1  a piece and sold for $ 5 a piece.\n",
      "For a supply of  25  sandwiches ordered daily and a random demand\n",
      "that is uniform over a range of { 5 , 35 } sandwiches\n",
      "The average daily profit over this whole time = $ 64.98500182648402 \n",
      "compared to the maximum possible profit of $ 100\n"
     ]
    }
   ],
   "source": [
    "print(\"For\", nreps, \"replications of\", ndays, \"days of business, \\n\",\n",
    "      \"sandwiches costing\", whole, \" a piece and sold for $\",retail, \"a piece.\") \n",
    "print(\"For a supply of \", order, \" sandwiches ordered daily and a random demand\\n\"\n",
    "       \"that is uniform over a range of {\", demandlo, \",\",demandhi,\"} sandwiches\" )\n",
    "print(\"The average daily profit over this whole time = $\", avgprofit, \"\\n\"\n",
    "      \"compared to the maximum possible profit of $\",order*(retail-whole))\n"
   ]
  },
  {
   "cell_type": "code",
   "execution_count": null,
   "id": "891d7eb4",
   "metadata": {},
   "outputs": [],
   "source": []
  }
 ],
 "metadata": {
  "kernelspec": {
   "display_name": "Python 3 (ipykernel)",
   "language": "python",
   "name": "python3"
  },
  "language_info": {
   "codemirror_mode": {
    "name": "ipython",
    "version": 3
   },
   "file_extension": ".py",
   "mimetype": "text/x-python",
   "name": "python",
   "nbconvert_exporter": "python",
   "pygments_lexer": "ipython3",
   "version": "3.9.5"
  }
 },
 "nbformat": 4,
 "nbformat_minor": 5
}
