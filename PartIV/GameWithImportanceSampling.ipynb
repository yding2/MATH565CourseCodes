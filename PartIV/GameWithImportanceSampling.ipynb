{
 "cells": [
  {
   "cell_type": "markdown",
   "metadata": {},
   "source": [
    "## An Example of Importance Sampling for a Game\n",
    "\n",
    "Consider a game where $X_1, X_2 \\overset{\\textrm{IID}}{\\sim} \\mathcal{U}[0,1]$ are drawn with a payoff of \n",
    "\n",
    "$$ \n",
    "Y = \\text{payoff}(X_1,X_2) = \\begin{cases} \\$100, & 1.7 \\le X_1 + X_2 \\le 2, \\\\\n",
    " 0, & 0 \\le X_1 + X_2 < 1.7,\n",
    "\\end{cases}\n",
    "$$\n",
    "\n",
    "What is the expected payoff of this game?"
   ]
  },
  {
   "cell_type": "markdown",
   "metadata": {},
   "source": [
    "### Vanilla Monte Carlo\n",
    "With ordinary Monte Carlo we do the following:\n",
    "\n",
    "$$ \\mu = \\mathbb{E}(Y) = \\int_{[0,1]^2} \\text{payoff}(x_1,x_2) \\, \\mathrm{d} x_1 \\mathrm{d}x_2.$$"
   ]
  },
  {
   "cell_type": "code",
   "execution_count": 1,
   "metadata": {},
   "outputs": [
    {
     "name": "stderr",
     "output_type": "stream",
     "text": [
      "/Users/yding/opt/anaconda3/envs/qmcpy/lib/python3.9/site-packages/scipy/__init__.py:155: UserWarning: A NumPy version >=1.18.5 and <1.26.0 is required for this version of SciPy (detected version 1.26.4\n",
      "  warnings.warn(f\"A NumPy version >={np_minversion} and <{np_maxversion}\"\n"
     ]
    }
   ],
   "source": [
    "# Import necessary packages\n",
    "import numpy as np\n",
    "from scipy import stats\n",
    "import matplotlib.pyplot as plt\n",
    "import time"
   ]
  },
  {
   "cell_type": "markdown",
   "metadata": {},
   "source": [
    "#### meanMC_CLT function"
   ]
  },
  {
   "cell_type": "code",
   "execution_count": 2,
   "metadata": {},
   "outputs": [],
   "source": [
    "def meanMC_CLT(inputRandomFuc,absTol,relTol,alpha): #Simple version of meanMC_CLT\n",
    "    nsig = 1000 # initial size of the sample\n",
    "    inflate = 1.2 # inflation rate\n",
    "    YY = inputRandomFuc(nsig)\n",
    "    sigma  = np.std(YY,ddof = 1)\n",
    "    hum = np.mean(YY)\n",
    "    sigmaUpBound = sigma * inflate #upper ound on the standard deviation\n",
    "    nmu = max(1, np.power(np.ceil(stats.norm.ppf(1-alpha/2)*sigmaUpBound/max(absTol,relTol)),2).astype(int) )  # number of samples needed for the error tolerance\n",
    "    mu = np.mean(inputRandomFuc(nmu))\n",
    "    nSample = nsig + nmu\n",
    "    return mu, nSample"
   ]
  },
  {
   "cell_type": "code",
   "execution_count": 3,
   "metadata": {},
   "outputs": [
    {
     "name": "stdout",
     "output_type": "stream",
     "text": [
      "The expectd payoff =  4.50 +/- 0.005\n",
      "using  129,209,689 smaples and  7.209635019302368 seconds.\n"
     ]
    }
   ],
   "source": [
    "Y = lambda n: 100*(np.sum(np.random.rand(n,2),1)>=1.7) \n",
    "absTol = 0.005\n",
    "start = time.time()\n",
    "expPay, nSamples = meanMC_CLT(Y,absTol,0,0.01)\n",
    "end = time.time()\n",
    "print(\"The expectd payoff = \", f\"{expPay:3.2f}\", \"+/-\", absTol )\n",
    "print(\"using \",f\"{int(nSamples):,}\",\"smaples and \", end-start, \"seconds.\")"
   ]
  },
  {
   "cell_type": "markdown",
   "metadata": {},
   "source": [
    "### Monte Carlo with Importance Sampling\n",
    "\n",
    "We may add the importance sampling to increase the number of samples with\n",
    "positive payoffs. Let \n",
    "\n",
    "$$ \\boldsymbol{Z} = (X_1^{1/(p+1)}, X_2^{1/(p+1)}), \\qquad\n",
    " \\boldsymbol{X} \\sim \\mathcal{U}[0,1]^2. $$\n",
    "\n",
    "This means that $Z_1$ and $Z_2$ are IID with common CDF $F(z) =\n",
    " z^{p+1}$ and common PDF $\\varrho(z) = (p+1)z^{p}$.  Thus,\n",
    "\n",
    "$$ \\mu = \\mathbb{E}(Y) = \\int_{[0,1]^2}\n",
    " \\frac{\\text{payoff}(z_1,z_2)}{(p+1)^2(z_1z_2)^{p}} \\, \\varrho(z_1)\n",
    " \\varrho(z_2) \\, \\mathrm{d} z_1 \\mathrm{d}z_2 = \\int_{[0,1]^2}\n",
    " \\frac{\\text{payoff}(x_1^{1/(p+1)},x_2^{1/(p+1)})}{(p+1)^2(x_1x_2)^{p/(p+1)}}\n",
    " \\, \\mathrm{d} x_1 \\mathrm{d}x_2$$"
   ]
  },
  {
   "cell_type": "code",
   "execution_count": 4,
   "metadata": {},
   "outputs": [
    {
     "name": "stdout",
     "output_type": "stream",
     "text": [
      "The expectd payoff =  4.50 +/- 0.005\n",
      "using  45,092,225 smaples and  2.809810161590576 seconds.\n"
     ]
    }
   ],
   "source": [
    "p = 1\n",
    "YIS = lambda x: (100/(p+1)**2)*(np.sum(x**(1/(p+1)),1)>=1.7)/((np.prod(x,1)**(p/(p+1))))\n",
    "start = time.time()\n",
    "expPay, nSamples = meanMC_CLT(lambda n: YIS(np.random.rand(n,2)),absTol,0,0.01)\n",
    "end = time.time()\n",
    "print(\"The expectd payoff = \", f\"{expPay:3.2f}\", \"+/-\", absTol )\n",
    "print(\"using \",f\"{int(nSamples):,}\",\"smaples and \", end-start, \"seconds.\")"
   ]
  }
 ],
 "metadata": {
  "kernelspec": {
   "display_name": "qmcpy",
   "language": "python",
   "name": "python3"
  },
  "language_info": {
   "codemirror_mode": {
    "name": "ipython",
    "version": 3
   },
   "file_extension": ".py",
   "mimetype": "text/x-python",
   "name": "python",
   "nbconvert_exporter": "python",
   "pygments_lexer": "ipython3",
   "version": "3.9.13"
  }
 },
 "nbformat": 4,
 "nbformat_minor": 2
}
