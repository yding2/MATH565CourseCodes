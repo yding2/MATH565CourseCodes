{
 "cells": [
  {
   "cell_type": "markdown",
   "metadata": {},
   "source": [
    "# Crowded Mayor Election\n",
    "Some elections, such as the Chicago mayoral election, attract a large number of candidates.  If no candidate receives a majority of votes in the first election, then there is a run-off of the top two candidates.\n",
    "\n",
    "Since not all voters vote, one may wonder if the two top preferred candidates will actually be chosen in the initial election.  We will explore the probability of that happening."
   ]
  },
  {
   "cell_type": "markdown",
   "metadata": {},
   "source": [
    "### Set Up Candidates\n",
    "First we set the probabilities of a voter choosing each of many candidates.  Note that the top three candidates have similar probabilities."
   ]
  },
  {
   "cell_type": "code",
   "execution_count": 42,
   "metadata": {},
   "outputs": [],
   "source": [
    "# Import necessary packages\n",
    "import numpy as np\n",
    "from scipy import stats\n",
    "from scipy.optimize import fsolve"
   ]
  },
  {
   "cell_type": "code",
   "execution_count": 33,
   "metadata": {},
   "outputs": [],
   "source": [
    "PMF = np.arange(0.125,0.05,-0.01)\n",
    "PMF = np.insert(PMF,[0]*2,0.13)\n",
    "PMF = np.append(PMF,1-np.sum(PMF)) # probability mass function for candidates\n",
    "totalProb = np.sum(PMF) # check that the sum is one\n",
    "CDF = np.cumsum(PMF) # cumulative distribution function\n",
    "nTrials = 10000 # number of trials "
   ]
  },
  {
   "cell_type": "code",
   "execution_count": 32,
   "metadata": {},
   "outputs": [
    {
     "data": {
      "text/plain": [
       "array([0., 0., 0., 0., 0., 0., 0., 0., 0., 0.])"
      ]
     },
     "execution_count": 32,
     "metadata": {},
     "output_type": "execute_result"
    }
   ],
   "source": [
    "np.zeros(10)"
   ]
  },
  {
   "cell_type": "code",
   "execution_count": 30,
   "metadata": {},
   "outputs": [
    {
     "ename": "KeyboardInterrupt",
     "evalue": "",
     "output_type": "error",
     "traceback": [
      "\u001b[0;31m---------------------------------------------------------------------------\u001b[0m",
      "\u001b[0;31mKeyboardInterrupt\u001b[0m                         Traceback (most recent call last)",
      "Cell \u001b[0;32mIn[30], line 2\u001b[0m\n\u001b[1;32m      1\u001b[0m nVotes \u001b[38;5;241m=\u001b[39m \u001b[38;5;28mint\u001b[39m(\u001b[38;5;241m5e5\u001b[39m) \u001b[38;5;66;03m# number of votes in election\u001b[39;00m\n\u001b[0;32m----> 2\u001b[0m Yes \u001b[38;5;241m=\u001b[39m \u001b[43mTwoBestWin\u001b[49m\u001b[43m(\u001b[49m\u001b[43mnTrials\u001b[49m\u001b[43m,\u001b[49m\u001b[43mnVotes\u001b[49m\u001b[43m,\u001b[49m\u001b[43mCDF\u001b[49m\u001b[43m)\u001b[49m \n",
      "Cell \u001b[0;32mIn[26], line 6\u001b[0m, in \u001b[0;36mTwoBestWin\u001b[0;34m(nTrials, nVotes, CDF)\u001b[0m\n\u001b[1;32m      4\u001b[0m vote \u001b[38;5;241m=\u001b[39m np\u001b[38;5;241m.\u001b[39mzeros(nCandidate) \u001b[38;5;66;03m#initialize votes\u001b[39;00m\n\u001b[1;32m      5\u001b[0m \u001b[38;5;28;01mfor\u001b[39;00m ii \u001b[38;5;129;01min\u001b[39;00m \u001b[38;5;28mrange\u001b[39m(nTrials):\n\u001b[0;32m----> 6\u001b[0m   votes \u001b[38;5;241m=\u001b[39m np\u001b[38;5;241m.\u001b[39msum(\u001b[43mnp\u001b[49m\u001b[38;5;241;43m.\u001b[39;49m\u001b[43mrandom\u001b[49m\u001b[38;5;241;43m.\u001b[39;49m\u001b[43mrand\u001b[49m\u001b[43m(\u001b[49m\u001b[43mnVotes\u001b[49m\u001b[43m,\u001b[49m\u001b[38;5;241;43m1\u001b[39;49m\u001b[43m)\u001b[49m\u001b[43m \u001b[49m\u001b[38;5;241;43m>\u001b[39;49m\u001b[43m \u001b[49m\u001b[43mCDF\u001b[49m,axis \u001b[38;5;241m=\u001b[39m \u001b[38;5;241m1\u001b[39m) \u001b[38;5;241m+\u001b[39m \u001b[38;5;241m1\u001b[39m\n\u001b[1;32m      7\u001b[0m   \u001b[38;5;28;01mfor\u001b[39;00m i \u001b[38;5;129;01min\u001b[39;00m \u001b[38;5;28mrange\u001b[39m(nCandidate):\n\u001b[1;32m      8\u001b[0m      vote[i] \u001b[38;5;241m=\u001b[39m np\u001b[38;5;241m.\u001b[39msum(votes \u001b[38;5;241m==\u001b[39m i)\n",
      "\u001b[0;31mKeyboardInterrupt\u001b[0m: "
     ]
    }
   ],
   "source": [
    "nVotes = int(5e5) # number of votes in election\n",
    "Yes = TwoBestWin(nTrials,nVotes,CDF) "
   ]
  },
  {
   "cell_type": "markdown",
   "metadata": {},
   "source": [
    "### Chicago Election\n",
    "Next we set the number of votes to be like a Chicago election.  The function *TwoBestWin* generates random election results."
   ]
  },
  {
   "cell_type": "code",
   "execution_count": 34,
   "metadata": {},
   "outputs": [
    {
     "ename": "TypeError",
     "evalue": "'float' object cannot be interpreted as an integer",
     "output_type": "error",
     "traceback": [
      "\u001b[0;31m---------------------------------------------------------------------------\u001b[0m",
      "\u001b[0;31mTypeError\u001b[0m                                 Traceback (most recent call last)",
      "Cell \u001b[0;32mIn[34], line 2\u001b[0m\n\u001b[1;32m      1\u001b[0m nVotes \u001b[38;5;241m=\u001b[39m \u001b[38;5;241m5e5\u001b[39m; \u001b[38;5;66;03m# number of votes in election\u001b[39;00m\n\u001b[0;32m----> 2\u001b[0m Yes \u001b[38;5;241m=\u001b[39m \u001b[43mTwoBestWin\u001b[49m\u001b[43m(\u001b[49m\u001b[43mnTrials\u001b[49m\u001b[43m,\u001b[49m\u001b[43mnVotes\u001b[49m\u001b[43m,\u001b[49m\u001b[43mCDF\u001b[49m\u001b[43m)\u001b[49m \u001b[38;5;66;03m# when do top two candidates win the initial election\u001b[39;00m\n\u001b[1;32m      3\u001b[0m CI \u001b[38;5;241m=\u001b[39m binomialCI(nTrials,np\u001b[38;5;241m.\u001b[39msum(Yes))\n\u001b[1;32m      4\u001b[0m \u001b[38;5;28mprint\u001b[39m(\u001b[38;5;124m\"\u001b[39m\u001b[38;5;124mChance that top two will win = \u001b[39m\u001b[38;5;124m\"\u001b[39m, \u001b[38;5;241m100\u001b[39m\u001b[38;5;241m*\u001b[39mCI)\n",
      "Cell \u001b[0;32mIn[26], line 6\u001b[0m, in \u001b[0;36mTwoBestWin\u001b[0;34m(nTrials, nVotes, CDF)\u001b[0m\n\u001b[1;32m      4\u001b[0m vote \u001b[38;5;241m=\u001b[39m np\u001b[38;5;241m.\u001b[39mzeros(nCandidate) \u001b[38;5;66;03m#initialize votes\u001b[39;00m\n\u001b[1;32m      5\u001b[0m \u001b[38;5;28;01mfor\u001b[39;00m ii \u001b[38;5;129;01min\u001b[39;00m \u001b[38;5;28mrange\u001b[39m(nTrials):\n\u001b[0;32m----> 6\u001b[0m   votes \u001b[38;5;241m=\u001b[39m np\u001b[38;5;241m.\u001b[39msum(\u001b[43mnp\u001b[49m\u001b[38;5;241;43m.\u001b[39;49m\u001b[43mrandom\u001b[49m\u001b[38;5;241;43m.\u001b[39;49m\u001b[43mrand\u001b[49m\u001b[43m(\u001b[49m\u001b[43mnVotes\u001b[49m\u001b[43m,\u001b[49m\u001b[38;5;241;43m1\u001b[39;49m\u001b[43m)\u001b[49m \u001b[38;5;241m>\u001b[39m CDF,axis \u001b[38;5;241m=\u001b[39m \u001b[38;5;241m1\u001b[39m) \u001b[38;5;241m+\u001b[39m \u001b[38;5;241m1\u001b[39m\n\u001b[1;32m      7\u001b[0m   \u001b[38;5;28;01mfor\u001b[39;00m i \u001b[38;5;129;01min\u001b[39;00m \u001b[38;5;28mrange\u001b[39m(nCandidate):\n\u001b[1;32m      8\u001b[0m      vote[i] \u001b[38;5;241m=\u001b[39m np\u001b[38;5;241m.\u001b[39msum(votes \u001b[38;5;241m==\u001b[39m i)\n",
      "File \u001b[0;32mmtrand.pyx:1218\u001b[0m, in \u001b[0;36mnumpy.random.mtrand.RandomState.rand\u001b[0;34m()\u001b[0m\n",
      "File \u001b[0;32mmtrand.pyx:436\u001b[0m, in \u001b[0;36mnumpy.random.mtrand.RandomState.random_sample\u001b[0;34m()\u001b[0m\n",
      "File \u001b[0;32m_common.pyx:307\u001b[0m, in \u001b[0;36mnumpy.random._common.double_fill\u001b[0;34m()\u001b[0m\n",
      "\u001b[0;31mTypeError\u001b[0m: 'float' object cannot be interpreted as an integer"
     ]
    }
   ],
   "source": [
    "nVotes = int(5e5) # number of votes in election\n",
    "Yes = TwoBestWin(nTrials,nVotes,CDF) # when do top two candidates win the initial election\n",
    "CI = binomialCI(nTrials,np.sum(Yes))\n",
    "print(\"Chance that top two will win = \", 100*CI)"
   ]
  },
  {
   "cell_type": "markdown",
   "metadata": {},
   "source": [
    "### Suburb Election\n",
    "Next we set the number of votes to be similar to that in a suburb. The function *TwoBestWin* generates random election results."
   ]
  },
  {
   "cell_type": "code",
   "execution_count": 43,
   "metadata": {},
   "outputs": [
    {
     "name": "stdout",
     "output_type": "stream",
     "text": [
      "Chance that top two will win =  (array([0.        , 0.00052969]), array([0., 0.]), array([0.        , 0.00052969]), array([0., 0.]), array([0.        , 0.00052969]), array([0., 0.]), array([0.        , 0.00052969]), array([0., 0.]), array([0.        , 0.00052969]), array([0., 0.]), array([0.        , 0.00052969]), array([0., 0.]), array([0.        , 0.00052969]), array([0., 0.]), array([0.        , 0.00052969]), array([0., 0.]), array([0.        , 0.00052969]), array([0., 0.]), array([0.        , 0.00052969]), array([0., 0.]), array([0.        , 0.00052969]), array([0., 0.]), array([0.        , 0.00052969]), array([0., 0.]), array([0.        , 0.00052969]), array([0., 0.]), array([0.        , 0.00052969]), array([0., 0.]), array([0.        , 0.00052969]), array([0., 0.]), array([0.        , 0.00052969]), array([0., 0.]), array([0.        , 0.00052969]), array([0., 0.]), array([0.        , 0.00052969]), array([0., 0.]), array([0.        , 0.00052969]), array([0., 0.]), array([0.        , 0.00052969]), array([0., 0.]), array([0.        , 0.00052969]), array([0., 0.]), array([0.        , 0.00052969]), array([0., 0.]), array([0.        , 0.00052969]), array([0., 0.]), array([0.        , 0.00052969]), array([0., 0.]), array([0.        , 0.00052969]), array([0., 0.]), array([0.        , 0.00052969]), array([0., 0.]), array([0.        , 0.00052969]), array([0., 0.]), array([0.        , 0.00052969]), array([0., 0.]), array([0.        , 0.00052969]), array([0., 0.]), array([0.        , 0.00052969]), array([0., 0.]), array([0.        , 0.00052969]), array([0., 0.]), array([0.        , 0.00052969]), array([0., 0.]), array([0.        , 0.00052969]), array([0., 0.]), array([0.        , 0.00052969]), array([0., 0.]), array([0.        , 0.00052969]), array([0., 0.]), array([0.        , 0.00052969]), array([0., 0.]), array([0.        , 0.00052969]), array([0., 0.]), array([0.        , 0.00052969]), array([0., 0.]), array([0.        , 0.00052969]), array([0., 0.]), array([0.        , 0.00052969]), array([0., 0.]), array([0.        , 0.00052969]), array([0., 0.]), array([0.        , 0.00052969]), array([0., 0.]), array([0.        , 0.00052969]), array([0., 0.]), array([0.        , 0.00052969]), array([0., 0.]), array([0.        , 0.00052969]), array([0., 0.]), array([0.        , 0.00052969]), array([0., 0.]), array([0.        , 0.00052969]), array([0., 0.]), array([0.        , 0.00052969]), array([0., 0.]), array([0.        , 0.00052969]), array([0., 0.]), array([0.        , 0.00052969]), array([0., 0.]), array([0.        , 0.00052969]), array([0., 0.]), array([0.        , 0.00052969]), array([0., 0.]), array([0.        , 0.00052969]), array([0., 0.]), array([0.        , 0.00052969]), array([0., 0.]), array([0.        , 0.00052969]), array([0., 0.]), array([0.        , 0.00052969]), array([0., 0.]), array([0.        , 0.00052969]), array([0., 0.]), array([0.        , 0.00052969]), array([0., 0.]), array([0.        , 0.00052969]), array([0., 0.]), array([0.        , 0.00052969]), array([0., 0.]), array([0.        , 0.00052969]), array([0., 0.]), array([0.        , 0.00052969]), array([0., 0.]), array([0.        , 0.00052969]), array([0., 0.]), array([0.        , 0.00052969]), array([0., 0.]), array([0.        , 0.00052969]), array([0., 0.]), array([0.        , 0.00052969]), array([0., 0.]), array([0.        , 0.00052969]), array([0., 0.]), array([0.        , 0.00052969]), array([0., 0.]), array([0.        , 0.00052969]), array([0., 0.]), array([0.        , 0.00052969]), array([0., 0.]), array([0.        , 0.00052969]), array([0., 0.]), array([0.        , 0.00052969]), array([0., 0.]), array([0.        , 0.00052969]), array([0., 0.]), array([0.        , 0.00052969]), array([0., 0.]), array([0.        , 0.00052969]), array([0., 0.]), array([0.        , 0.00052969]), array([0., 0.]), array([0.        , 0.00052969]), array([0., 0.]), array([0.        , 0.00052969]), array([0., 0.]), array([0.        , 0.00052969]), array([0., 0.]), array([0.        , 0.00052969]), array([0., 0.]), array([0.        , 0.00052969]), array([0., 0.]), array([0.        , 0.00052969]), array([0., 0.]), array([0.        , 0.00052969]), array([0., 0.]), array([0.        , 0.00052969]), array([0., 0.]), array([0.        , 0.00052969]), array([0., 0.]), array([0.        , 0.00052969]), array([0., 0.]), array([0.        , 0.00052969]), array([0., 0.]), array([0.        , 0.00052969]), array([0., 0.]), array([0.        , 0.00052969]), array([0., 0.]), array([0.        , 0.00052969]), array([0., 0.]), array([0.        , 0.00052969]), array([0., 0.]), array([0.        , 0.00052969]), array([0., 0.]), array([0.        , 0.00052969]), array([0., 0.]), array([0.        , 0.00052969]), array([0., 0.]), array([0.        , 0.00052969]), array([0., 0.]), array([0.        , 0.00052969]), array([0., 0.]), array([0.        , 0.00052969]), array([0., 0.]), array([0.        , 0.00052969]), array([0., 0.]), array([0.        , 0.00052969]), array([0., 0.]), array([0.        , 0.00052969]), array([0., 0.]))\n"
     ]
    }
   ],
   "source": [
    "nVotes = int(5e3) # number of votes in election\n",
    "Yes = TwoBestWin(nTrials,nVotes,CDF) # when do top two candidates win the initial election\n",
    "CI = binomialCI(nTrials,np.sum(Yes),0.01)\n",
    "print(\"Chance that top two will win = \", 100*CI)"
   ]
  },
  {
   "cell_type": "code",
   "execution_count": 46,
   "metadata": {},
   "outputs": [
    {
     "data": {
      "text/plain": [
       "0.0"
      ]
     },
     "execution_count": 46,
     "metadata": {},
     "output_type": "execute_result"
    }
   ],
   "source": [
    "np.sum(Yes)"
   ]
  },
  {
   "cell_type": "markdown",
   "metadata": {},
   "source": [
    "#### TwoBestWin function"
   ]
  },
  {
   "cell_type": "code",
   "execution_count": 39,
   "metadata": {},
   "outputs": [],
   "source": [
    "def TwoBestWin(nTrials,nVotes,CDF):\n",
    "    Yes = np.zeros(nTrials) #initialize Yes\n",
    "    nCandidate = len(CDF) #number of candidates\n",
    "    vote = np.zeros(nCandidate) #initialize votes\n",
    "    for ii in range(nTrials):\n",
    "      votes = np.sum(np.random.rand(nVotes,1) > CDF,axis = 1) + 1 # need to debug\n",
    "      for i in range(nCandidate):\n",
    "         vote[i] = np.sum(votes == i)\n",
    "      Yes[ii] = np.all(vote[0] > vote[2:nCandidate]) and np.all(vote[1] > vote[2:nCandidate])\n",
    "    return Yes"
   ]
  },
  {
   "cell_type": "markdown",
   "metadata": {},
   "source": [
    "#### binomialCI function"
   ]
  },
  {
   "cell_type": "code",
   "execution_count": 36,
   "metadata": {},
   "outputs": [],
   "source": [
    "def binomialCI(ntot,nsuc,alpha):\n",
    "   obsprob=nsuc/ntot # observed probability of success\n",
    "\n",
    "   al2=alpha/2 # half of uncertainty\n",
    "   if nsuc==0: # no successes observed\n",
    "      plo=0  # the lower bound must be zero\n",
    "   else: # use a nonlinear equation solver\n",
    "      plo=fsolve(lambda x: stats.binom.cdf(nsuc-1,ntot,x)-1+al2, obsprob)[0]\n",
    "\n",
    "   if nsuc==ntot: #no failures observed \n",
    "      pup=1 # the upper bound must be one\n",
    "   else: # use a nonlinear equation solver\n",
    "      pup=fsolve(lambda x: stats.binom.cdf(nsuc,ntot,x)-al2,obsprob)[0] # nonlinear equation\n",
    "   \n",
    "   exactci=np.array([plo,pup]) #confidence interval based on exact probabilities\n",
    "   cltci= obsprob+ np.array([-1,1])*(-stats.norm.ppf(al2)*np.sqrt(obsprob*(1-obsprob))/np.sqrt(ntot))\n",
    "   return exactci,cltci"
   ]
  }
 ],
 "metadata": {
  "kernelspec": {
   "display_name": "qmcpy",
   "language": "python",
   "name": "python3"
  },
  "language_info": {
   "codemirror_mode": {
    "name": "ipython",
    "version": 3
   },
   "file_extension": ".py",
   "mimetype": "text/x-python",
   "name": "python",
   "nbconvert_exporter": "python",
   "pygments_lexer": "ipython3",
   "version": "3.9.13"
  }
 },
 "nbformat": 4,
 "nbformat_minor": 2
}
