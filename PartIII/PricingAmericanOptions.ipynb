{
 "cells": [
  {
   "cell_type": "markdown",
   "metadata": {},
   "source": [
    "# Pricing American Options\n",
    "\n",
    "Pricing American options is more difficult because the excercise time\n",
    "must be computed simultaneously with the payoff of a particular path\n",
    "Longstaff and Schwartz proposed a method based on linear regression for\n",
    "pricing American options.  \n",
    "\n",
    "Since the price of an American call option is the same as a European\n",
    "call, we only deal with American put options."
   ]
  },
  {
   "cell_type": "code",
   "execution_count": 1,
   "metadata": {},
   "outputs": [
    {
     "name": "stderr",
     "output_type": "stream",
     "text": [
      "/Users/yding/opt/anaconda3/envs/qmcpy/lib/python3.9/site-packages/scipy/__init__.py:155\n",
      "\tUserWarning: A NumPy version >=1.18.5 and <1.26.0 is required for this version of SciPy (detected version 1.26.4\n"
     ]
    }
   ],
   "source": [
    "# Import necessary packages\n",
    "import qmcpy as qp\n",
    "import numpy as np\n",
    "import matplotlib.pyplot as plt\n",
    "import time\n"
   ]
  },
  {
   "cell_type": "markdown",
   "metadata": {},
   "source": [
    "#### Initialization\n",
    "First we set up the basic common praramters for our examples."
   ]
  },
  {
   "cell_type": "code",
   "execution_count": 2,
   "metadata": {},
   "outputs": [],
   "source": [
    "initPrice = 100 # initial stock price\n",
    "interest = 0.02 # risk-free interest rate\n",
    "vol = 0.5 # volatility\n",
    "callput = 'put' # put options\n",
    "strike = 130 # strike price\n",
    "tfinal = 1/4 # mature time\n",
    "d = 12 # weekly monitoring\n",
    "absTol = 0.05 # absolute tolerance of a nickel\n",
    "relTol = 0 # zero relative tolerance\n",
    "sampleSize = 10**6 # number of smaple size"
   ]
  },
  {
   "cell_type": "code",
   "execution_count": 3,
   "metadata": {},
   "outputs": [
    {
     "name": "stdout",
     "output_type": "stream",
     "text": [
      " After generating  1,000,000 iid paths, the estimation of the fair price is 31.4615\n"
     ]
    }
   ],
   "source": [
    "AmericanPut = qp.AmericanOption(qp.IIDStdUniform(dimension=d,seed=7), volatility= vol,start_price= initPrice,\n",
    "                       strike_price=strike, interest_rate = interest,t_final=tfinal,call_put=callput)\n",
    "x = AmericanPut.discrete_distrib.gen_samples(sampleSize)\n",
    "y = AmericanPut.f(x)\n",
    "print(\" After generating \", f\"{int(sampleSize):,}\", \"iid paths, the estimation of the fair price is\",f\"{y.mean():.4f}\")"
   ]
  },
  {
   "cell_type": "code",
   "execution_count": 6,
   "metadata": {},
   "outputs": [
    {
     "name": "stdout",
     "output_type": "stream",
     "text": [
      "To reach the absolute error tolerance =  0.05 , we need to generate  873,179 iid paths, the estimation of the fair price is 31.4805\n"
     ]
    }
   ],
   "source": [
    "sc = qp.CubMCG(AmericanPut,absTol)\n",
    "solution, data = sc.integrate()\n",
    "print(\"To reach the absolute error tolerance = \",absTol, \", we need to generate \", f\"{int(data.n_total):,}\",\n",
    "      \"iid paths, the estimation of the fair price is\",f\"{solution:.4f}\")"
   ]
  },
  {
   "cell_type": "code",
   "execution_count": 5,
   "metadata": {},
   "outputs": [
    {
     "name": "stdout",
     "output_type": "stream",
     "text": [
      "The exact price of this European Call Option is  31.5794\n"
     ]
    }
   ],
   "source": [
    "EuroCall = qp.EuropeanOption(qp.IIDStdUniform(dimension=d,seed=7), volatility= vol,start_price= initPrice,\n",
    "                       strike_price=strike, interest_rate = interest,t_final=tfinal,call_put=callput)\n",
    "print(\"The exact price of this European Call Option is \",f\"{EuroCall.get_exact_value():.4f}\")"
   ]
  },
  {
   "cell_type": "markdown",
   "metadata": {},
   "source": [
    "Notice that these two prices are similar.  If the interest rate is\n",
    "decreased, then the prices are even closer together."
   ]
  }
 ],
 "metadata": {
  "kernelspec": {
   "display_name": "qmcpy",
   "language": "python",
   "name": "python3"
  },
  "language_info": {
   "codemirror_mode": {
    "name": "ipython",
    "version": 3
   },
   "file_extension": ".py",
   "mimetype": "text/x-python",
   "name": "python",
   "nbconvert_exporter": "python",
   "pygments_lexer": "ipython3",
   "version": "3.9.13"
  }
 },
 "nbformat": 4,
 "nbformat_minor": 2
}
